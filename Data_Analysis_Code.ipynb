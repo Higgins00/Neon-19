{
 "cells": [
  {
   "cell_type": "code",
   "execution_count": 1,
   "metadata": {},
   "outputs": [],
   "source": [
    "import pandas as pd\n",
    "import matplotlib.pyplot as plt\n",
    "import numpy as np\n",
    "from scipy import stats\n",
    "import scipy as sp\n",
    "import math\n",
    "import random\n",
    "from scipy.optimize import curve_fit,minimize\n"
   ]
  },
  {
   "cell_type": "markdown",
   "metadata": {},
   "source": [
    "# Code for reading in the data from a run"
   ]
  },
  {
   "cell_type": "code",
   "execution_count": 2,
   "metadata": {},
   "outputs": [],
   "source": [
    "#This creates a dataframe for each channel\n",
    "\n",
    "def create_string(location):\n",
    "    path0 = 'C:/Users/higgi/Downloads/CH0@DT5725_1146_Data_{0:s}.csv'.format(location)\n",
    "    path2 = 'C:/Users/higgi/Downloads/CH2@DT5725_1146_Data_{0:s}.csv'.format(location)\n",
    "    \n",
    "    path = [path0,path2]\n",
    "    return path\n",
    "\n",
    "#def create_string(location):\n",
    "    #path0 = '/home/cenpa/Ne19/DAQ/FinalConfigSettings/DAQ/{0:s}/UNFILTERED/CH0@DT5725_1146_Data_{0:s}.csv'.format(location)\n",
    "    #path2 = '/home/cenpa/Ne19/DAQ/FinalConfigSettings/DAQ/{0:s}/UNFILTERED/CH2@DT5725_1146_Data_{0:s}.csv'.format(location)\n",
    "    \n",
    "    #path = [path0,path2]\n",
    "    #return path\n",
    "\n",
    "\n",
    "\n",
    "#write the folder location where 'BiTest-03' is\n",
    "run_name = 'Ne19rundeltaE-02-22-20_5'\n",
    "\n",
    "\n",
    "#ch0_df = pd.read_csv(path[0],sep=';')\n",
    "#ch1_df = pd.read_csv(path[1],sep=';')\n",
    "#ch2_df = pd.read_csv(path[2],sep=';')\n",
    "\n",
    "def Run_Data(run_folder_name):\n",
    "    return[pd.read_csv(create_string(run_name)[i],sep=';') for i in range(2)]"
   ]
  },
  {
   "cell_type": "markdown",
   "metadata": {},
   "source": [
    "# Code for splitting the data into separate cycles"
   ]
  },
  {
   "cell_type": "code",
   "execution_count": 3,
   "metadata": {},
   "outputs": [],
   "source": [
    "def Split_Data(ch0_dataFrame,ch2_dataFrame,minimum_counts = 0):\n",
    "    \"\"\"This function returns a list of the data split by run for channel0 based on the triggering from channel2\"\"\"\n",
    "    #initializing an empty list for coincidencedata ch0 \n",
    "    #by the clock from ch2\n",
    "    \n",
    "    ch0split_data = []\n",
    "    \n",
    "    \n",
    "    #iterating through the number of times ch2 recieved a signal from our clock\n",
    "    for i in np.arange(0,len(ch2_dataFrame)-1):\n",
    "        \n",
    "        #creating a mask to separate the full data into their individual runs for ch0\n",
    "        ch0time_mask = np.where((ch0_dataFrame['TIMETAG'] > ch2_dataFrame['TIMETAG'][i]) & \n",
    "                                (ch0_dataFrame['TIMETAG'] < ch2_dataFrame['TIMETAG'][i+1]-(80*10**12)))\n",
    "        \n",
    "        \n",
    "        #This number for minimum counts is to remove any possible signals that may occur when we are not running but still collecting data\n",
    "        if len(ch0time_mask[0]) >= minimum_counts:\n",
    "            \n",
    "            #for each run I am creating a new dataframe and storing in a list\n",
    "            split_dataFrame0 = ch0_dataFrame.iloc[[ch0time_mask][0][0]].copy()\n",
    "            #resetting the index\n",
    "            split_dataFrame0 = split_dataFrame0.reset_index(drop=True)\n",
    "            \n",
    "            ch0split_data.extend([split_dataFrame0])\n",
    "\n",
    "    #returns arrays of dataframes for channel0       \n",
    "    return ch0split_data"
   ]
  },
  {
   "cell_type": "markdown",
   "metadata": {},
   "source": [
    "# Code for binning the data for count rate information"
   ]
  },
  {
   "cell_type": "code",
   "execution_count": 10,
   "metadata": {},
   "outputs": [],
   "source": [
    "#Bin size is in units of seconds\n",
    "def count_rate(single_run_coincidences, bin_size = 1):\n",
    "    \n",
    "    #Converting units to seconds\n",
    "    bin_seconds = bin_size*(10**12)\n",
    "    \n",
    "    #Setting the run timetags to start at 0\n",
    "    singlerun = single_run_coincidences['TIMETAG'] - single_run_coincidences['TIMETAG'].min()\n",
    "    \n",
    "    #Creating an array of the time spacings\n",
    "    time_axis = np.arange(0,singlerun.max()-bin_seconds,bin_seconds)\n",
    "    \n",
    "    def time_binning(i):\n",
    "        #function to create the number of \n",
    "        number_of_counts = np.where((singlerun >= i) & \n",
    "                                    (singlerun < i+bin_seconds))\n",
    "        return len(number_of_counts[0])\n",
    "    #returning an array of the time axis and the counts\n",
    "    return time_axis*(10**-12), np.asarray([time_binning(i) for i in time_axis])"
   ]
  },
  {
   "cell_type": "markdown",
   "metadata": {},
   "source": [
    "# Code for plotting the counts"
   ]
  },
  {
   "cell_type": "code",
   "execution_count": 5,
   "metadata": {},
   "outputs": [],
   "source": [
    "def plot_rate(coincidences,cycle_number, bin_size = 1):\n",
    "    \n",
    "    x,y = count_rate(coincidences[cycle_number],bin_size = bin_size)\n",
    "    fig, ax = plt.subplots(1,figsize=(12,5))\n",
    "\n",
    "    #ax.errorbar(x,y,yerr=np.sqrt(y), label= 'Limits')\n",
    "\n",
    "    ax.plot(x,y)\n",
    "    ax.set_title('Run from {0:s} Cycle Number {1:d}'.format(run_name,cycle_number))\n",
    "    ax.set_ylabel('Counts')\n",
    "    ax.set_xlabel('Seconds')"
   ]
  },
  {
   "cell_type": "markdown",
   "metadata": {},
   "source": [
    "# Data Analysis Code"
   ]
  },
  {
   "cell_type": "markdown",
   "metadata": {},
   "source": [
    "$$N=N_0 e^{-\\lambda t}$$"
   ]
  },
  {
   "cell_type": "markdown",
   "metadata": {},
   "source": [
    "$$N\\approx {\\frac  {N_{m}}{1-N_{m}\\tau /T}}$$"
   ]
  },
  {
   "cell_type": "markdown",
   "metadata": {},
   "source": [
    "$$M_i = -\\frac{1}{\\lambda D} \\ln\\left( 1+B+DN_0 e^{-\\lambda T_i}\\right) + \\frac{1}{\\lambda D} \\ln\\left( 1+B+DN_0 e^{-\\lambda T_{i-1}}\\right) $$"
   ]
  },
  {
   "cell_type": "code",
   "execution_count": 149,
   "metadata": {},
   "outputs": [],
   "source": [
    "def Convert_Measured_to_Actual(counts,background = 0, bin_size = 1,deadtime = 0.000016):\n",
    "    background_subtracted_counts = counts - background\n",
    "    return background_subtracted_counts/(1-background_subtracted_counts*deadtime/bin_size)\n",
    "\n",
    "def optimize_actual(counts,background=0, binsize=1, deadtime=0.000016, rc=.039):\n",
    "    t,measured = count_rate(single_run_coincidences=counts, bin_size = binsize)\n",
    "    def chisquaredfunction(params):\n",
    "        D,B,l,N0 = params\n",
    "        \n",
    "        expected = (1/(l*D/binsize)) * (np.log(np.absolute(1+B+(D/binsize)*N0*np.exp(-l*t[0:len(t)-1]))) - np.log(np.absolute(1+B+(D/binsize)*N0*np.exp(-l*t[1:len(t)]))))\n",
    "        chisquared = np.sum(((measured[0:len(measured)-1] - expected)**2) / expected)\n",
    "        return chisquared\n",
    "    initial_guess = [deadtime, background, 0.039308854518104605, 298005.4760529752]\n",
    "    return minimize(chisquaredfunction, initial_guess) #chisquaredfunction(initial_guess) \n",
    "        \n",
    "\n",
    "def fit_function(t,N,l):\n",
    "    return (N*np.exp((-t*l)))\n",
    "\n",
    "def final_analysis(time,counts,rc):\n",
    "    \n",
    "    popt, pcov = curve_fit(fit_function, xdata=time, ydata=counts, p0=[counts[0],rc])\n",
    "        \n",
    "\n",
    "        \n",
    "        \n",
    "    return {'N_0' : popt[0],\"Decay_Constant\": popt[1],\"Covariance Matrix\": pcov}"
   ]
  },
  {
   "cell_type": "code",
   "execution_count": 7,
   "metadata": {},
   "outputs": [],
   "source": [
    "data = Run_Data(run_name)"
   ]
  },
  {
   "cell_type": "code",
   "execution_count": 8,
   "metadata": {},
   "outputs": [],
   "source": [
    "cycles=Split_Data(data[0],data[1])"
   ]
  },
  {
   "cell_type": "code",
   "execution_count": 186,
   "metadata": {},
   "outputs": [],
   "source": [
    "op = optimize_actual(cycles[0],background=9,binsize=10)"
   ]
  },
  {
   "cell_type": "code",
   "execution_count": 187,
   "metadata": {},
   "outputs": [
    {
     "data": {
      "text/plain": [
       "      fun: 54.032276154796484\n",
       " hess_inv: array([[ 4.85332697e-11, -6.48920523e-07,  8.04134037e-10,\n",
       "        -3.50666796e-06],\n",
       "       [-6.48920523e-07,  8.92185763e-03, -1.13014582e-05,\n",
       "         4.82102318e-02],\n",
       "       [ 8.04134037e-10, -1.13014582e-05,  1.50878909e-08,\n",
       "        -6.10619384e-05],\n",
       "       [-3.50666796e-06,  4.82102318e-02, -6.10619384e-05,\n",
       "         2.60509484e-01]])\n",
       "      jac: array([ 2.32467463e+03,  9.38601494e-02, -2.11539984e+00, -6.33239746e-04])\n",
       "  message: 'Desired error not necessarily achieved due to precision loss.'\n",
       "     nfev: 546\n",
       "      nit: 11\n",
       "     njev: 89\n",
       "   status: 2\n",
       "  success: False\n",
       "        x: array([1.73661262e-04, 6.83068804e+00, 4.05557576e-02, 2.98005468e+05])"
      ]
     },
     "execution_count": 187,
     "metadata": {},
     "output_type": "execute_result"
    }
   ],
   "source": [
    "op"
   ]
  },
  {
   "cell_type": "code",
   "execution_count": 156,
   "metadata": {},
   "outputs": [
    {
     "data": {
      "text/plain": [
       "{'N_0': 36581846381.96671,\n",
       " 'Decay_Constant': 0.25296627544349004,\n",
       " 'Covariance Matrix': array([[2.44889227e+20, 1.67034460e+08],\n",
       "        [1.67034460e+08, 1.13976798e-04]])}"
      ]
     },
     "execution_count": 156,
     "metadata": {},
     "output_type": "execute_result"
    }
   ],
   "source": [
    "t,c = count_rate(cycles[0],bin_size=10)\n",
    "co = Convert_Measured_to_Actual(counts = c, background=6.83, bin_size=10, deadtime = 1.73661262e-04 )\n",
    "fa = final_analysis(t[np.where(co>0)],co[np.where(co>0)],4.05557576e-02)\n",
    "fa"
   ]
  },
  {
   "cell_type": "code",
   "execution_count": 155,
   "metadata": {},
   "outputs": [
    {
     "data": {
      "text/plain": [
       "array([8.90655032e+05, 4.48255249e-08])"
      ]
     },
     "execution_count": 155,
     "metadata": {},
     "output_type": "execute_result"
    }
   ],
   "source": [
    "np.diagonal(fa['Covariance Matrix'])"
   ]
  },
  {
   "cell_type": "code",
   "execution_count": 175,
   "metadata": {},
   "outputs": [
    {
     "data": {
      "image/png": "[encoded data removed]",
      "text/plain": [
       "<Figure size 432x288 with 1 Axes>"
      ]
     },
     "metadata": {
      "needs_background": "light"
     },
     "output_type": "display_data"
    }
   ],
   "source": [
    "#plt.scatter(t[np.where(co>0)],co[np.where(co>0)])\n",
    "plt.scatter(t,c)\n",
    "#plt.scatter(t[0:len(op[1])],op[1])\n",
    "x = np.arange(0,200,10)\n",
    "D,B,l,N0 = op.x\n",
    "y = (1/(l*D/10)) * (np.log(np.absolute(1+B+(D/10)*N0*np.exp(-l*t[0:len(t)-1]))) - np.log(np.absolute(1+B+(D/10)*N0*np.exp(-l*t[1:len(t)]))))\n",
    "plt.scatter(x,y)\n",
    "x1 = np.linspace(0,200,1000)\n",
    "y1 = N0*np.exp(-l*x1) + B\n",
    "plt.plot(x1,y1)\n",
    "plt.yscale('log')"
   ]
  },
  {
   "cell_type": "code",
   "execution_count": 185,
   "metadata": {},
   "outputs": [
    {
     "data": {
      "text/plain": [
       "[<matplotlib.lines.Line2D at 0x22cddb8e278>]"
      ]
     },
     "execution_count": 185,
     "metadata": {},
     "output_type": "execute_result"
    },
    {
     "data": {
      "image/png": "[encoded data removed]",
      "text/plain": [
       "<Figure size 432x288 with 1 Axes>"
      ]
     },
     "metadata": {
      "needs_background": "light"
     },
     "output_type": "display_data"
    }
   ],
   "source": [
    "plt.plot(np.arange(0,20),y[0:20]-c[0:20])"
   ]
  },
  {
   "cell_type": "code",
   "execution_count": 174,
   "metadata": {},
   "outputs": [
    {
     "data": {
      "text/plain": [
       "Power_divergenceResult(statistic=53.08527007638611, pvalue=4.544248951729615e-05)"
      ]
     },
     "execution_count": 174,
     "metadata": {},
     "output_type": "execute_result"
    }
   ],
   "source": [
    "stats.chisquare(y,c[0:20],ddof=0)"
   ]
  },
  {
   "cell_type": "code",
   "execution_count": 1086,
   "metadata": {},
   "outputs": [],
   "source": [
    "rdata = cycles[1].where((cycles[1]['TIMETAG']-np.asarray(cycles[1]['TIMETAG']).min()>80*10**12)& (cycles[1]['TIMETAG']-np.asarray(cycles[1]['TIMETAG']).min()<230*10**12))\n",
    "x,y = count_rate(rdata,bin_size=1)"
   ]
  },
  {
   "cell_type": "code",
   "execution_count": 1091,
   "metadata": {},
   "outputs": [
    {
     "data": {
      "image/png": "[encoded data removed]",
      "text/plain": [
       "<Figure size 432x288 with 1 Axes>"
      ]
     },
     "metadata": {
      "needs_background": "light"
     },
     "output_type": "display_data"
    }
   ],
   "source": [
    "plt.errorbar(x,y,yerr=np.sqrt(y))\n",
    "plt.plot(x,1430.0642822770699*np.e**(-0.03953974551868798 * x))\n",
    "plt.yscale('log')\n"
   ]
  },
  {
   "cell_type": "code",
   "execution_count": 957,
   "metadata": {},
   "outputs": [
    {
     "data": {
      "text/plain": [
       "(18.31420398410749, 18.34521117618866, 17.518474434745414, 17.53547540031243)"
      ]
     },
     "execution_count": 957,
     "metadata": {},
     "output_type": "execute_result"
    }
   ],
   "source": [
    "np.log(2)/0.0378475188526587, np.log(2)/0.03778354873666553, np.log(2)/0.0395666405280808, np.log(2)/0.039528279943159994"
   ]
  },
  {
   "cell_type": "code",
   "execution_count": 1088,
   "metadata": {},
   "outputs": [],
   "source": [
    "hmm = final_analysis(x,y,.0408)"
   ]
  },
  {
   "cell_type": "code",
   "execution_count": 1089,
   "metadata": {},
   "outputs": [
    {
     "data": {
      "text/plain": [
       "{'N_0': 1430.0642822770699,\n",
       " 'Decay_Constant': 0.03953974551868798,\n",
       " 'Covariance Matrix': array([[3.94060927e+01, 1.09011242e-03],\n",
       "        [1.09011242e-03, 6.27404599e-08]])}"
      ]
     },
     "execution_count": 1089,
     "metadata": {},
     "output_type": "execute_result"
    }
   ],
   "source": [
    "hmm"
   ]
  },
  {
   "cell_type": "code",
   "execution_count": 1077,
   "metadata": {},
   "outputs": [
    {
     "data": {
      "text/plain": [
       "array([3.11730553e+01, 2.90277224e-04])"
      ]
     },
     "execution_count": 1077,
     "metadata": {},
     "output_type": "execute_result"
    }
   ],
   "source": [
    "np.sqrt(np.diag(hmm['Covariance Matrix']))"
   ]
  },
  {
   "cell_type": "code",
   "execution_count": null,
   "metadata": {},
   "outputs": [],
   "source": []
  },
  {
   "cell_type": "markdown",
   "metadata": {},
   "source": [
    " https://doi.org/10.1119/1.2870432"
   ]
  },
  {
   "cell_type": "code",
   "execution_count": 311,
   "metadata": {},
   "outputs": [],
   "source": [
    "deadtimetest= np.asarray(cycles[2]['TIMETAG']-cycles[2]['TIMETAG'].min())\n",
    "mask = np.where((deadtimetest<20*10**12)&(deadtimetest>0*10**12))"
   ]
  },
  {
   "cell_type": "code",
   "execution_count": 212,
   "metadata": {},
   "outputs": [],
   "source": [
    "times = np.random.exponential(scale=(1/.0408), size=1000000)"
   ]
  },
  {
   "cell_type": "code",
   "execution_count": 1136,
   "metadata": {},
   "outputs": [
    {
     "data": {
      "text/plain": [
       "[<matplotlib.lines.Line2D at 0x175ed6e7ef0>]"
      ]
     },
     "execution_count": 1136,
     "metadata": {},
     "output_type": "execute_result"
    },
    {
     "data": {
      "image/png": "[encoded data removed]",
      "text/plain": [
       "<Figure size 432x288 with 1 Axes>"
      ]
     },
     "metadata": {
      "needs_background": "light"
     },
     "output_type": "display_data"
    }
   ],
   "source": [
    "plt.plot(x,y)"
   ]
  },
  {
   "cell_type": "code",
   "execution_count": 1700,
   "metadata": {},
   "outputs": [],
   "source": [
    "x,y = count_rate(cycles[0],bin_size=1)"
   ]
  },
  {
   "cell_type": "code",
   "execution_count": 1143,
   "metadata": {},
   "outputs": [
    {
     "data": {
      "text/plain": [
       "8.6"
      ]
     },
     "execution_count": 1143,
     "metadata": {},
     "output_type": "execute_result"
    }
   ],
   "source": [
    "y[::-1][0:20].mean()"
   ]
  },
  {
   "cell_type": "code",
   "execution_count": 1573,
   "metadata": {},
   "outputs": [],
   "source": [
    "y_without_bg = haha[np.where(haha>=0)]"
   ]
  },
  {
   "cell_type": "code",
   "execution_count": 1574,
   "metadata": {},
   "outputs": [],
   "source": [
    "b = np.concatenate([(np.arange(j)*0)+1 for j in [i for i in y_without_bg]]*x[np.where(haha>=0)])"
   ]
  },
  {
   "cell_type": "code",
   "execution_count": 1575,
   "metadata": {},
   "outputs": [],
   "source": [
    "alpha = b"
   ]
  },
  {
   "cell_type": "code",
   "execution_count": 1578,
   "metadata": {},
   "outputs": [
    {
     "data": {
      "text/plain": [
       "23.931961342160168"
      ]
     },
     "execution_count": 1578,
     "metadata": {},
     "output_type": "execute_result"
    }
   ],
   "source": [
    "(alpha[np.where(alpha>=0)]**4).mean() / (alpha[np.where(alpha>=0)].mean())**4"
   ]
  },
  {
   "cell_type": "code",
   "execution_count": 518,
   "metadata": {
    "scrolled": true
   },
   "outputs": [],
   "source": [
    "timings = np.asarray(cycles[0]['TIMETAG'][]) -  np.asarray(cycles[0]['TIMETAG']).min()"
   ]
  },
  {
   "cell_type": "code",
   "execution_count": 616,
   "metadata": {},
   "outputs": [],
   "source": [
    "n = 140\n",
    "sub = timings[np.where(timings>150*10**12)]*10**-12 - n"
   ]
  },
  {
   "cell_type": "code",
   "execution_count": 617,
   "metadata": {},
   "outputs": [
    {
     "data": {
      "text/plain": [
       "3.6211937596937585"
      ]
     },
     "execution_count": 617,
     "metadata": {},
     "output_type": "execute_result"
    }
   ],
   "source": [
    "((sub[np.where(sub>0)])**4).mean() / (sub[np.where(sub>0)]).mean()**4"
   ]
  },
  {
   "cell_type": "code",
   "execution_count": 618,
   "metadata": {},
   "outputs": [
    {
     "data": {
      "text/plain": [
       "2159"
      ]
     },
     "execution_count": 618,
     "metadata": {},
     "output_type": "execute_result"
    }
   ],
   "source": [
    "len(sub[np.where(sub>0)])"
   ]
  },
  {
   "cell_type": "code",
   "execution_count": 833,
   "metadata": {
    "scrolled": true
   },
   "outputs": [],
   "source": [
    "yes = cycles[1].where((cycles[1]['TIMETAG']-np.asarray(cycles[1]['TIMETAG']).min()>30*10**12)& (cycles[1]['TIMETAG']-np.asarray(cycles[1]['TIMETAG']).min()<230*10**12))  \n",
    "no = yes['TIMETAG'] - yes['TIMETAG'].min()"
   ]
  },
  {
   "cell_type": "code",
   "execution_count": 834,
   "metadata": {},
   "outputs": [
    {
     "data": {
      "text/plain": [
       "19.867775033833585"
      ]
     },
     "execution_count": 834,
     "metadata": {},
     "output_type": "execute_result"
    }
   ],
   "source": [
    "np.nanmean(np.asarray(no*10**-14)**4) / np.nanmean(np.asarray(no*10**-14))**4"
   ]
  },
  {
   "cell_type": "code",
   "execution_count": 774,
   "metadata": {},
   "outputs": [],
   "source": [
    "no = yes['TIMETAG'] - yes['TIMETAG'].min()"
   ]
  },
  {
   "cell_type": "code",
   "execution_count": 780,
   "metadata": {},
   "outputs": [
    {
     "data": {
      "text/plain": [
       "0                  NaN\n",
       "1                  NaN\n",
       "2                  NaN\n",
       "3                  NaN\n",
       "4                  NaN\n",
       "              ...     \n",
       "720214    1.884597e+14\n",
       "720215    1.885562e+14\n",
       "720216    1.887979e+14\n",
       "720217    1.889452e+14\n",
       "720218    1.891613e+14\n",
       "Name: TIMETAG, Length: 720219, dtype: float64"
      ]
     },
     "execution_count": 780,
     "metadata": {},
     "output_type": "execute_result"
    }
   ],
   "source": [
    "no"
   ]
  },
  {
   "cell_type": "code",
   "execution_count": 850,
   "metadata": {},
   "outputs": [],
   "source": [
    "sim = np.random.exponential(scale=(1/.0408), size=1000000)"
   ]
  },
  {
   "cell_type": "code",
   "execution_count": 854,
   "metadata": {},
   "outputs": [],
   "source": [
    "new = sim[1:len(sim)] - sim[0:len(sim)-1]"
   ]
  },
  {
   "cell_type": "code",
   "execution_count": 1108,
   "metadata": {},
   "outputs": [],
   "source": [
    "haha = 12053.923851718971*np.e**(-0.039607032871117574 * z)"
   ]
  },
  {
   "cell_type": "code",
   "execution_count": 1107,
   "metadata": {},
   "outputs": [],
   "source": [
    "z=np.arange(0,900)"
   ]
  },
  {
   "cell_type": "code",
   "execution_count": 1115,
   "metadata": {
    "scrolled": true
   },
   "outputs": [
    {
     "data": {
      "text/plain": [
       "[<matplotlib.lines.Line2D at 0x175ed69ac88>]"
      ]
     },
     "execution_count": 1115,
     "metadata": {},
     "output_type": "execute_result"
    },
    {
     "data": {
      "image/png": "[encoded data removed]",
      "text/plain": [
       "<Figure size 432x288 with 1 Axes>"
      ]
     },
     "metadata": {
      "needs_background": "light"
     },
     "output_type": "display_data"
    }
   ],
   "source": [
    "plt.plot(z,haha)"
   ]
  },
  {
   "cell_type": "code",
   "execution_count": 1116,
   "metadata": {},
   "outputs": [
    {
     "data": {
      "text/plain": [
       "array([1.20539239e+04, 1.15858347e+04, 1.11359228e+04, 1.07034823e+04,\n",
       "       1.02878348e+04, 9.88832802e+03, 9.50433529e+03, 9.13525412e+03,\n",
       "       8.78050545e+03, 8.43953272e+03, 8.11180095e+03, 7.79679597e+03,\n",
       "       7.49402355e+03, 7.20300868e+03, 6.92329476e+03, 6.65444295e+03,\n",
       "       6.39603145e+03, 6.14765482e+03, 5.90892338e+03, 5.67946259e+03,\n",
       "       5.45891243e+03, 5.24692687e+03, 5.04317334e+03, 4.84733215e+03,\n",
       "       4.65909605e+03, 4.47816971e+03, 4.30426927e+03, 4.13712189e+03,\n",
       "       3.97646533e+03, 3.82204754e+03, 3.67362624e+03, 3.53096858e+03,\n",
       "       3.39385073e+03, 3.26205757e+03, 3.13538232e+03, 3.01362625e+03,\n",
       "       2.89659832e+03, 2.78411492e+03, 2.67599959e+03, 2.57208269e+03,\n",
       "       2.47220119e+03, 2.37619838e+03, 2.28392364e+03, 2.19523219e+03,\n",
       "       2.10998490e+03, 2.02804801e+03, 1.94929297e+03, 1.87359621e+03,\n",
       "       1.80083899e+03, 1.73090714e+03, 1.66369094e+03, 1.59908495e+03,\n",
       "       1.53698780e+03, 1.47730207e+03, 1.41993410e+03, 1.36479390e+03,\n",
       "       1.31179496e+03, 1.26085412e+03, 1.21189146e+03, 1.16483017e+03,\n",
       "       1.11959640e+03, 1.07611920e+03, 1.03433034e+03, 9.94164261e+02,\n",
       "       9.55557952e+02, 9.18450839e+02, 8.82784704e+02, 8.48503589e+02,\n",
       "       8.15553710e+02, 7.83883372e+02, 7.53442885e+02, 7.24184492e+02,\n",
       "       6.96062288e+02, 6.69032151e+02, 6.43051674e+02, 6.18080094e+02,\n",
       "       5.94078234e+02, 5.71008437e+02, 5.48834508e+02, 5.27521657e+02,\n",
       "       5.07036446e+02, 4.87346736e+02, 4.68421636e+02, 4.50231452e+02,\n",
       "       4.32747647e+02, 4.15942788e+02, 3.99790512e+02, 3.84265476e+02,\n",
       "       3.69343322e+02, 3.55000640e+02, 3.41214925e+02, 3.27964551e+02,\n",
       "       3.15228727e+02, 3.02987472e+02, 2.91221582e+02, 2.79912595e+02,\n",
       "       2.69042769e+02, 2.58595051e+02, 2.48553048e+02, 2.38901005e+02,\n",
       "       2.29623780e+02, 2.20706816e+02, 2.12136124e+02, 2.03898257e+02,\n",
       "       1.95980291e+02, 1.88369802e+02, 1.81054852e+02, 1.74023962e+02,\n",
       "       1.67266102e+02, 1.60770669e+02, 1.54527473e+02, 1.48526719e+02,\n",
       "       1.42758992e+02, 1.37215242e+02, 1.31886772e+02, 1.26765223e+02,\n",
       "       1.21842558e+02, 1.17111055e+02, 1.12563290e+02, 1.08192128e+02,\n",
       "       1.03990710e+02, 9.99524466e+01, 9.60710005e+01, 9.23402822e+01,\n",
       "       8.87544387e+01, 8.53078440e+01, 8.19950906e+01, 7.88109812e+01,\n",
       "       7.57505200e+01, 7.28089055e+01, 6.99815225e+01, 6.72639351e+01,\n",
       "       6.46518796e+01, 6.21412578e+01, 5.97281308e+01, 5.74087126e+01,\n",
       "       5.51793642e+01, 5.30365879e+01, 5.09770219e+01, 4.89974349e+01,\n",
       "       4.70947210e+01, 4.52658951e+01, 4.35080879e+01, 4.18185414e+01,\n",
       "       4.01946050e+01, 3.86337308e+01, 3.71334699e+01, 3.56914686e+01,\n",
       "       3.43054643e+01, 3.29732827e+01, 3.16928336e+01, 3.04621081e+01,\n",
       "       2.92791752e+01, 2.81421791e+01, 2.70493359e+01, 2.59989310e+01,\n",
       "       2.49893164e+01, 2.40189081e+01, 2.30861835e+01, 2.21896794e+01,\n",
       "       2.13279892e+01, 2.04997609e+01, 1.97036952e+01, 1.89385430e+01,\n",
       "       1.82031039e+01, 1.74962241e+01, 1.68167945e+01, 1.61637491e+01,\n",
       "       1.55360634e+01, 1.49327526e+01, 1.43528701e+01, 1.37955061e+01,\n",
       "       1.32597862e+01, 1.27448699e+01, 1.22499493e+01, 1.17742479e+01,\n",
       "       1.13170194e+01, 1.08775464e+01, 1.04551394e+01, 1.00491357e+01,\n",
       "       9.65889836e+00, 9.28381505e+00, 8.92329733e+00, 8.57677957e+00,\n",
       "       8.24371810e+00, 7.92359039e+00, 7.61589418e+00, 7.32014671e+00,\n",
       "       7.03588398e+00, 6.76266000e+00, 6.50004611e+00, 6.24763029e+00,\n",
       "       6.00501651e+00, 5.77182414e+00, 5.54768731e+00, 5.33225437e+00,\n",
       "       5.12518732e+00, 4.92616129e+00, 4.73486402e+00, 4.55099539e+00,\n",
       "       4.37426691e+00, 4.20440132e+00, 4.04113211e+00, 3.88420311e+00,\n",
       "       3.73336813e+00, 3.58839052e+00, 3.44904281e+00, 3.31510638e+00,\n",
       "       3.18637109e+00, 3.06263497e+00, 2.94370389e+00, 2.82939125e+00,\n",
       "       2.71951770e+00, 2.61391086e+00, 2.51240505e+00, 2.41484101e+00,\n",
       "       2.32106566e+00, 2.23093188e+00, 2.14429827e+00, 2.06102889e+00,\n",
       "       1.98099310e+00, 1.90406534e+00, 1.83012491e+00, 1.75905580e+00,\n",
       "       1.69074651e+00, 1.62508987e+00, 1.56198288e+00, 1.50132651e+00,\n",
       "       1.44302560e+00, 1.38698869e+00, 1.33312786e+00, 1.28135860e+00,\n",
       "       1.23159970e+00, 1.18377307e+00, 1.13780370e+00, 1.09361945e+00,\n",
       "       1.05115101e+00, 1.01033173e+00, 9.71097594e-01, 9.33387031e-01,\n",
       "       8.97140880e-01, 8.62302273e-01, 8.28816551e-01, 7.96631177e-01,\n",
       "       7.65695656e-01, 7.35961452e-01, 7.07381914e-01, 6.79912203e-01,\n",
       "       6.53509221e-01, 6.28131545e-01, 6.03739358e-01, 5.80294391e-01,\n",
       "       5.57759860e-01, 5.36100412e-01, 5.15282063e-01, 4.95272152e-01,\n",
       "       4.76039284e-01, 4.57553285e-01, 4.39785151e-01, 4.22707006e-01,\n",
       "       4.06292055e-01, 3.90514545e-01, 3.75349722e-01, 3.60773793e-01,\n",
       "       3.46763891e-01, 3.33298033e-01, 3.20355095e-01, 3.07914769e-01,\n",
       "       2.95957537e-01, 2.84464639e-01, 2.73418044e-01, 2.62800421e-01,\n",
       "       2.52595111e-01, 2.42786103e-01, 2.33358008e-01, 2.24296033e-01,\n",
       "       2.15585962e-01, 2.07214127e-01, 1.99167396e-01, 1.91433143e-01,\n",
       "       1.83999233e-01, 1.76854005e-01, 1.69986246e-01, 1.63385182e-01,\n",
       "       1.57040457e-01, 1.50942116e-01, 1.45080592e-01, 1.39446688e-01,\n",
       "       1.34031565e-01, 1.28826726e-01, 1.23824008e-01, 1.19015559e-01,\n",
       "       1.14393836e-01, 1.09951589e-01, 1.05681846e-01, 1.01577911e-01,\n",
       "       9.76333432e-02, 9.38419546e-02, 9.01977967e-02, 8.66951522e-02,\n",
       "       8.33285256e-02, 8.00926349e-02, 7.69824034e-02, 7.39929513e-02,\n",
       "       7.11195883e-02, 6.83578065e-02, 6.57032727e-02, 6.31518223e-02,\n",
       "       6.06994521e-02, 5.83423146e-02, 5.60767117e-02, 5.38990888e-02,\n",
       "       5.18060294e-02, 4.97942496e-02, 4.78605931e-02, 4.60020261e-02,\n",
       "       4.42156327e-02, 4.24986103e-02, 4.08482648e-02, 3.92620071e-02,\n",
       "       3.77373484e-02, 3.62718966e-02, 3.48633527e-02, 3.35095066e-02,\n",
       "       3.22082344e-02, 3.09574943e-02, 2.97553242e-02, 2.85998378e-02,\n",
       "       2.74892224e-02, 2.64217354e-02, 2.53957020e-02, 2.44095126e-02,\n",
       "       2.34616197e-02, 2.25505363e-02, 2.16748330e-02, 2.08331357e-02,\n",
       "       2.00241241e-02, 1.92465287e-02, 1.84991297e-02, 1.77807543e-02,\n",
       "       1.70902755e-02, 1.64266101e-02, 1.57887167e-02, 1.51755946e-02,\n",
       "       1.45862819e-02, 1.40198538e-02, 1.34754218e-02, 1.29521318e-02,\n",
       "       1.24491626e-02, 1.19657251e-02, 1.15010610e-02, 1.10544411e-02,\n",
       "       1.06251648e-02, 1.02125585e-02, 9.81597499e-03, 9.43479194e-03,\n",
       "       9.06841134e-03, 8.71625838e-03, 8.37778054e-03, 8.05244680e-03,\n",
       "       7.73974671e-03, 7.43918968e-03, 7.15030417e-03, 6.87263692e-03,\n",
       "       6.60575230e-03, 6.34923160e-03, 6.10267235e-03, 5.86568771e-03,\n",
       "       5.63790588e-03, 5.41896949e-03, 5.20853504e-03, 5.00627237e-03,\n",
       "       4.81186416e-03, 4.62500538e-03, 4.44540288e-03, 4.27277487e-03,\n",
       "       4.10685051e-03, 3.94736948e-03, 3.79408157e-03, 3.64674627e-03,\n",
       "       3.50513244e-03, 3.36901788e-03, 3.23818905e-03, 3.11244069e-03,\n",
       "       2.99157550e-03, 2.87540387e-03, 2.76374352e-03, 2.65641926e-03,\n",
       "       2.55326273e-03, 2.45411206e-03, 2.35881170e-03, 2.26721214e-03,\n",
       "       2.17916965e-03, 2.09454611e-03, 2.01320875e-03, 1.93502996e-03,\n",
       "       1.85988708e-03, 1.78766222e-03, 1.71824207e-03, 1.65151769e-03,\n",
       "       1.58738443e-03, 1.52574164e-03, 1.46649263e-03, 1.40954442e-03,\n",
       "       1.35480769e-03, 1.30219654e-03, 1.25162843e-03, 1.20302404e-03,\n",
       "       1.15630709e-03, 1.11140430e-03, 1.06824522e-03, 1.02676213e-03,\n",
       "       9.86889948e-04, 9.48566122e-04, 9.11730522e-04, 8.76325356e-04,\n",
       "       8.42295077e-04, 8.09586293e-04, 7.78147687e-04, 7.47929933e-04,\n",
       "       7.18885624e-04, 6.90969191e-04, 6.64136834e-04, 6.38346456e-04,\n",
       "       6.13557594e-04, 5.89731356e-04, 5.66830361e-04, 5.44818678e-04,\n",
       "       5.23661774e-04, 5.03326454e-04, 4.83780814e-04, 4.64994188e-04,\n",
       "       4.46937102e-04, 4.29581226e-04, 4.12899329e-04, 3.96865239e-04,\n",
       "       3.81453800e-04, 3.66640832e-04, 3.52403095e-04, 3.38718251e-04,\n",
       "       3.25564830e-04, 3.12922194e-04, 3.00770509e-04, 2.89090710e-04,\n",
       "       2.77864471e-04, 2.67074180e-04, 2.56702907e-04, 2.46734382e-04,\n",
       "       2.37152963e-04, 2.27943620e-04, 2.19091901e-04, 2.10583921e-04,\n",
       "       2.02406331e-04, 1.94546301e-04, 1.86991498e-04, 1.79730071e-04,\n",
       "       1.72750626e-04, 1.66042213e-04, 1.59594308e-04, 1.53396794e-04,\n",
       "       1.47439947e-04, 1.41714422e-04, 1.36211236e-04, 1.30921755e-04,\n",
       "       1.25837680e-04, 1.20951034e-04, 1.16254152e-04, 1.11739663e-04,\n",
       "       1.07400484e-04, 1.03229809e-04, 9.92210933e-05, 9.53680477e-05,\n",
       "       9.16646272e-05, 8.81050213e-05, 8.46836453e-05, 8.13951314e-05,\n",
       "       7.82343202e-05, 7.51962524e-05, 7.22761618e-05, 6.94694668e-05,\n",
       "       6.67717640e-05, 6.41788209e-05, 6.16865694e-05, 5.92910993e-05,\n",
       "       5.69886523e-05, 5.47756160e-05, 5.26485185e-05, 5.06040224e-05,\n",
       "       4.86389200e-05, 4.67501283e-05, 4.49346840e-05, 4.31897386e-05,\n",
       "       4.15125546e-05, 3.99005006e-05, 3.83510473e-05, 3.68617638e-05,\n",
       "       3.54303136e-05, 3.40544508e-05, 3.27320168e-05, 3.14609367e-05,\n",
       "       3.02392164e-05, 2.90649391e-05, 2.79362624e-05, 2.68514156e-05,\n",
       "       2.58086965e-05, 2.48064692e-05, 2.38431614e-05, 2.29172616e-05,\n",
       "       2.20273172e-05, 2.11719320e-05, 2.03497639e-05, 1.95595230e-05,\n",
       "       1.87999694e-05, 1.80699116e-05, 1.73682040e-05, 1.66937458e-05,\n",
       "       1.60454788e-05, 1.54223858e-05, 1.48234894e-05, 1.42478499e-05,\n",
       "       1.36945642e-05, 1.31627642e-05, 1.26516155e-05, 1.21603162e-05,\n",
       "       1.16880956e-05, 1.12342126e-05, 1.07979552e-05, 1.03786390e-05,\n",
       "       9.97560606e-06, 9.58822407e-06, 9.21588525e-06, 8.85800544e-06,\n",
       "       8.51402316e-06, 8.18339871e-06, 7.86561338e-06, 7.56016858e-06,\n",
       "       7.26658510e-06, 6.98440232e-06, 6.71317753e-06, 6.45248519e-06,\n",
       "       6.20191630e-06, 5.96107773e-06, 5.72959163e-06, 5.50709481e-06,\n",
       "       5.29323819e-06, 5.08768625e-06, 4.89011650e-06, 4.70021896e-06,\n",
       "       4.51769569e-06, 4.34226034e-06, 4.17363766e-06, 4.01156309e-06,\n",
       "       3.85578235e-06, 3.70605103e-06, 3.56213422e-06, 3.42380611e-06,\n",
       "       3.29084970e-06, 3.16305637e-06, 3.04022563e-06, 2.92216477e-06,\n",
       "       2.80868855e-06, 2.69961895e-06, 2.59478484e-06, 2.49402175e-06,\n",
       "       2.39717158e-06, 2.30408239e-06, 2.21460813e-06, 2.12860841e-06,\n",
       "       2.04594831e-06, 1.96649815e-06, 1.89013327e-06, 1.81673386e-06,\n",
       "       1.74618476e-06, 1.67837530e-06, 1.61319907e-06, 1.55055383e-06,\n",
       "       1.49034128e-06, 1.43246696e-06, 1.37684008e-06, 1.32337335e-06,\n",
       "       1.27198288e-06, 1.22258807e-06, 1.17511139e-06, 1.12947837e-06,\n",
       "       1.08561742e-06, 1.04345972e-06, 1.00293912e-06, 9.63992060e-07,\n",
       "       9.26557426e-07, 8.90576488e-07, 8.55992796e-07, 8.22752089e-07,\n",
       "       7.90802216e-07, 7.60093051e-07, 7.30576412e-07, 7.02205991e-07,\n",
       "       6.74937276e-07, 6.48727486e-07, 6.23535498e-07, 5.99321789e-07,\n",
       "       5.76048369e-07, 5.53678724e-07, 5.32177758e-07, 5.11511738e-07,\n",
       "       4.91648239e-07, 4.72556098e-07, 4.54205361e-07, 4.36567237e-07,\n",
       "       4.19614053e-07, 4.03319211e-07, 3.87657145e-07, 3.72603283e-07,\n",
       "       3.58134007e-07, 3.44226615e-07, 3.30859287e-07, 3.18011052e-07,\n",
       "       3.05661752e-07, 2.93792011e-07, 2.82383207e-07, 2.71417440e-07,\n",
       "       2.60877507e-07, 2.50746869e-07, 2.41009634e-07, 2.31650524e-07,\n",
       "       2.22654856e-07, 2.14008516e-07, 2.05697939e-07, 1.97710086e-07,\n",
       "       1.90032424e-07, 1.82652909e-07, 1.75559961e-07, 1.68742454e-07,\n",
       "       1.62189690e-07, 1.55891390e-07, 1.49837671e-07, 1.44019035e-07,\n",
       "       1.38426354e-07, 1.33050854e-07, 1.27884100e-07, 1.22917986e-07,\n",
       "       1.18144720e-07, 1.13556815e-07, 1.09147071e-07, 1.04908571e-07,\n",
       "       1.00834664e-07, 9.69189587e-08, 9.31553117e-08, 8.95378182e-08,\n",
       "       8.60608026e-08, 8.27188096e-08, 7.95065961e-08, 7.64191221e-08,\n",
       "       7.34515439e-08, 7.05992054e-08, 6.78576315e-08, 6.52225210e-08,\n",
       "       6.26897395e-08, 6.02553134e-08, 5.79154231e-08, 5.56663977e-08,\n",
       "       5.35047085e-08, 5.14269640e-08, 4.94299044e-08, 4.75103965e-08,\n",
       "       4.56654287e-08, 4.38921064e-08, 4.21876474e-08, 4.05493775e-08,\n",
       "       3.89747264e-08, 3.74612237e-08, 3.60064947e-08, 3.46082571e-08,\n",
       "       3.32643171e-08, 3.19725663e-08, 3.07309779e-08, 2.95376041e-08,\n",
       "       2.83905724e-08, 2.72880834e-08, 2.62284072e-08, 2.52098813e-08,\n",
       "       2.42309078e-08, 2.32899507e-08, 2.23855338e-08, 2.15162379e-08,\n",
       "       2.06806994e-08, 1.98776073e-08, 1.91057016e-08, 1.83637713e-08,\n",
       "       1.76506523e-08, 1.69652258e-08, 1.63064164e-08, 1.56731905e-08,\n",
       "       1.50645546e-08, 1.44795538e-08, 1.39172704e-08, 1.33768220e-08,\n",
       "       1.28573608e-08, 1.23580719e-08, 1.18781718e-08, 1.14169076e-08,\n",
       "       1.09735556e-08, 1.05474203e-08, 1.01378331e-08, 9.74415137e-09,\n",
       "       9.36575744e-09, 9.00205766e-09, 8.65248140e-09, 8.31648021e-09,\n",
       "       7.99352693e-09, 7.68311488e-09, 7.38475703e-09, 7.09798529e-09,\n",
       "       6.82234974e-09, 6.55741793e-09, 6.30277419e-09, 6.05801901e-09,\n",
       "       5.82276840e-09, 5.59665325e-09, 5.37931882e-09, 5.17042412e-09,\n",
       "       4.96964141e-09, 4.77665568e-09, 4.59116416e-09, 4.41287581e-09,\n",
       "       4.24151092e-09, 4.07680063e-09, 3.91848653e-09, 3.76632022e-09,\n",
       "       3.62006298e-09, 3.47948534e-09, 3.34436673e-09, 3.21449518e-09,\n",
       "       3.08966692e-09, 2.96968611e-09, 2.85436450e-09, 2.74352117e-09,\n",
       "       2.63698221e-09, 2.53458047e-09, 2.43615529e-09, 2.34155224e-09,\n",
       "       2.25062292e-09, 2.16322464e-09, 2.07922029e-09, 1.99847808e-09,\n",
       "       1.92087132e-09, 1.84627827e-09, 1.77458188e-09, 1.70566966e-09,\n",
       "       1.63943352e-09, 1.57576951e-09, 1.51457777e-09, 1.45576228e-09,\n",
       "       1.39923077e-09, 1.34489454e-09, 1.29266835e-09, 1.24247025e-09,\n",
       "       1.19422149e-09, 1.14784638e-09, 1.10327214e-09, 1.06042885e-09,\n",
       "       1.01924930e-09, 9.79668861e-10, 9.41625451e-10, 9.05059377e-10,\n",
       "       8.69913272e-10, 8.36131992e-10, 8.03662539e-10, 7.72453969e-10,\n",
       "       7.42457320e-10, 7.13625528e-10, 6.85913360e-10, 6.59277336e-10,\n",
       "       6.33675666e-10, 6.09068185e-10, 5.85416284e-10, 5.62682855e-10,\n",
       "       5.40832233e-10, 5.19830133e-10, 4.99643607e-10, 4.80240983e-10,\n",
       "       4.61591820e-10, 4.43666858e-10, 4.26437975e-10, 4.09878139e-10,\n",
       "       3.93961371e-10, 3.78662698e-10, 3.63958116e-10, 3.49824557e-10,\n",
       "       3.36239845e-10, 3.23182667e-10, 3.10632538e-10, 2.98569767e-10,\n",
       "       2.86975429e-10, 2.75831333e-10, 2.65119995e-10, 2.54824609e-10,\n",
       "       2.44929023e-10, 2.35417712e-10, 2.26275753e-10, 2.17488803e-10,\n",
       "       2.09043076e-10, 2.00925321e-10, 1.93122803e-10, 1.85623279e-10,\n",
       "       1.78414983e-10, 1.71486607e-10, 1.64827280e-10, 1.58426554e-10,\n",
       "       1.52274387e-10, 1.46361127e-10, 1.40677496e-10, 1.35214577e-10,\n",
       "       1.29963799e-10, 1.24916924e-10, 1.20066034e-10, 1.15403518e-10,\n",
       "       1.10922062e-10, 1.06614633e-10, 1.02474475e-10, 9.84950912e-11,\n",
       "       9.46702384e-11, 9.09939159e-11, 8.74603557e-11, 8.40640140e-11,\n",
       "       8.07995622e-11, 7.76618786e-11, 7.46460405e-11, 7.17473161e-11,\n",
       "       6.89611578e-11, 6.62831941e-11, 6.37092236e-11, 6.12352079e-11,\n",
       "       5.88572655e-11, 5.65716655e-11, 5.43748221e-11, 5.22632886e-11,\n",
       "       5.02337521e-11, 4.82830284e-11, 4.64080570e-11, 4.46058963e-11,\n",
       "       4.28737187e-11, 4.12088067e-11, 3.96085481e-11, 3.80704322e-11,\n",
       "       3.65920458e-11, 3.51710695e-11, 3.38052739e-11, 3.24925162e-11,\n",
       "       3.12307366e-11, 3.00179557e-11, 2.88522706e-11, 2.77318524e-11,\n",
       "       2.66549434e-11, 2.56198539e-11, 2.46249600e-11, 2.36687007e-11,\n",
       "       2.27495757e-11, 2.18661431e-11, 2.10170167e-11, 2.02008644e-11,\n",
       "       1.94164057e-11, 1.86624098e-11, 1.79376938e-11, 1.72411206e-11,\n",
       "       1.65715974e-11, 1.59280738e-11, 1.53095400e-11, 1.47150258e-11,\n",
       "       1.41435982e-11, 1.35943609e-11, 1.30664521e-11, 1.25590435e-11,\n",
       "       1.20713390e-11, 1.16025736e-11, 1.11520117e-11, 1.07189464e-11,\n",
       "       1.03026984e-11, 9.90261442e-12, 9.51806690e-12, 9.14845250e-12,\n",
       "       8.79319130e-12, 8.45172594e-12, 8.12352067e-12, 7.80806058e-12,\n",
       "       7.50485072e-12, 7.21341540e-12, 6.93329736e-12, 6.66405712e-12,\n",
       "       6.40527227e-12, 6.15653679e-12, 5.91746044e-12, 5.68766813e-12,\n",
       "       5.46679932e-12, 5.25450750e-12, 5.05045958e-12, 4.85433545e-12,\n",
       "       4.66582739e-12, 4.48463965e-12, 4.31048796e-12, 4.14309910e-12])"
      ]
     },
     "execution_count": 1116,
     "metadata": {},
     "output_type": "execute_result"
    }
   ],
   "source": [
    "haha"
   ]
  },
  {
   "cell_type": "code",
   "execution_count": null,
   "metadata": {},
   "outputs": [],
   "source": []
  },
  {
   "cell_type": "code",
   "execution_count": null,
   "metadata": {},
   "outputs": [],
   "source": []
  },
  {
   "cell_type": "code",
   "execution_count": 989,
   "metadata": {},
   "outputs": [],
   "source": [
    "okay =[]\n",
    "for i in range(len(cycles)):\n",
    "    x,y = count_rate(cycles[i].where((cycles[i]['TIMETAG']-np.asarray(cycles[i]['TIMETAG']).min()>80*10**12)& (cycles[i]['TIMETAG']-np.asarray(cycles[i]['TIMETAG']).min()<230*10**12)),bin_size=1)\n",
    "    okay.extend([final_analysis(x,y,.0408)])"
   ]
  },
  {
   "cell_type": "code",
   "execution_count": 990,
   "metadata": {},
   "outputs": [],
   "source": [
    "um = []\n",
    "for i in range(len(okay)):\n",
    "    um.extend([np.log(2)/okay[i][\"Decay_Constant\"]])"
   ]
  },
  {
   "cell_type": "code",
   "execution_count": 988,
   "metadata": {},
   "outputs": [
    {
     "data": {
      "text/plain": [
       "17.54574078932699"
      ]
     },
     "execution_count": 988,
     "metadata": {},
     "output_type": "execute_result"
    }
   ],
   "source": [
    "np.asarray(um).mean()"
   ]
  },
  {
   "cell_type": "code",
   "execution_count": 991,
   "metadata": {},
   "outputs": [
    {
     "data": {
      "text/plain": [
       "17.544652182368296"
      ]
     },
     "execution_count": 991,
     "metadata": {},
     "output_type": "execute_result"
    }
   ],
   "source": [
    "np.asarray(um).mean()"
   ]
  },
  {
   "cell_type": "code",
   "execution_count": 1693,
   "metadata": {},
   "outputs": [],
   "source": [
    "test = Convert_Measured_to_Actual(y,background=0,bin_size=1,deadtime=0.000016)"
   ]
  },
  {
   "cell_type": "code",
   "execution_count": 1694,
   "metadata": {},
   "outputs": [],
   "source": [
    "haha = test"
   ]
  },
  {
   "cell_type": "code",
   "execution_count": 1695,
   "metadata": {},
   "outputs": [
    {
     "data": {
      "image/png": "[encoded data removed]",
      "text/plain": [
       "<Figure size 432x288 with 1 Axes>"
      ]
     },
     "metadata": {
      "needs_background": "light"
     },
     "output_type": "display_data"
    }
   ],
   "source": [
    "plt.plot(x[np.where(haha>=0)],haha[np.where(haha>=0)])\n",
    "plt.yscale('log')"
   ]
  },
  {
   "cell_type": "code",
   "execution_count": 1696,
   "metadata": {
    "scrolled": true
   },
   "outputs": [
    {
     "data": {
      "text/plain": [
       "{'N_0': 35353.3456795782,\n",
       " 'Decay_Constant': 0.03917502538640822,\n",
       " 'Covariance Matrix': array([[3.45267364e+03, 3.82396730e-03],\n",
       "        [3.82396730e-03, 8.81550864e-09]])}"
      ]
     },
     "execution_count": 1696,
     "metadata": {},
     "output_type": "execute_result"
    }
   ],
   "source": [
    "final_analysis(x[np.where(haha>=0)],haha[np.where(haha>=0)],.0408)"
   ]
  },
  {
   "cell_type": "code",
   "execution_count": 1697,
   "metadata": {},
   "outputs": [
    {
     "data": {
      "text/plain": [
       "array([5.87594558e+01, 9.38909401e-05])"
      ]
     },
     "execution_count": 1697,
     "metadata": {},
     "output_type": "execute_result"
    }
   ],
   "source": [
    "np.sqrt(np.diagonal(final_analysis(x,haha,.0408)['Covariance Matrix']))"
   ]
  },
  {
   "cell_type": "code",
   "execution_count": 1698,
   "metadata": {},
   "outputs": [
    {
     "data": {
      "text/plain": [
       "17.69359875897956"
      ]
     },
     "execution_count": 1698,
     "metadata": {},
     "output_type": "execute_result"
    }
   ],
   "source": [
    "np.log(2)/0.03917502538640822"
   ]
  },
  {
   "cell_type": "code",
   "execution_count": 1588,
   "metadata": {
    "scrolled": true
   },
   "outputs": [
    {
     "data": {
      "text/plain": [
       "<matplotlib.collections.PathCollection at 0x175c1395f60>"
      ]
     },
     "execution_count": 1588,
     "metadata": {},
     "output_type": "execute_result"
    },
    {
     "data": {
      "image/png": "[encoded data removed]",
      "text/plain": [
       "<Figure size 432x288 with 1 Axes>"
      ]
     },
     "metadata": {
      "needs_background": "light"
     },
     "output_type": "display_data"
    }
   ],
   "source": [
    "plt.scatter(x[np.where(haha>=0)],y[np.where(haha>=0)] - haha[np.where(haha>=0)])\n"
   ]
  },
  {
   "cell_type": "code",
   "execution_count": 1606,
   "metadata": {},
   "outputs": [],
   "source": [
    "l = -np.log(abs(35353.3456795782*0.000016*np.e**(-0.03917502538640822*x[np.where(haha>=0)])+1))/(0.000016*0.03917502538640822)"
   ]
  },
  {
   "cell_type": "code",
   "execution_count": 1597,
   "metadata": {},
   "outputs": [
    {
     "data": {
      "text/plain": [
       "<matplotlib.collections.PathCollection at 0x175ed8a8048>"
      ]
     },
     "execution_count": 1597,
     "metadata": {},
     "output_type": "execute_result"
    },
    {
     "data": {
      "image/png": "[encoded data removed]",
      "text/plain": [
       "<Figure size 432x288 with 1 Axes>"
      ]
     },
     "metadata": {
      "needs_background": "light"
     },
     "output_type": "display_data"
    }
   ],
   "source": [
    "plt.scatter(x[np.where(haha>=0)], y[np.where(haha>=0)])"
   ]
  },
  {
   "cell_type": "code",
   "execution_count": 1607,
   "metadata": {
    "scrolled": true
   },
   "outputs": [
    {
     "data": {
      "text/plain": [
       "[<matplotlib.lines.Line2D at 0x175eda5a710>]"
      ]
     },
     "execution_count": 1607,
     "metadata": {},
     "output_type": "execute_result"
    },
    {
     "data": {
      "image/png": "[encoded data removed]",
      "text/plain": [
       "<Figure size 432x288 with 1 Axes>"
      ]
     },
     "metadata": {
      "needs_background": "light"
     },
     "output_type": "display_data"
    }
   ],
   "source": [
    "plt.plot(x[np.where(haha>=0)],l)"
   ]
  },
  {
   "cell_type": "code",
   "execution_count": 1685,
   "metadata": {},
   "outputs": [
    {
     "data": {
      "text/plain": [
       "1.024316372859377"
      ]
     },
     "execution_count": 1685,
     "metadata": {},
     "output_type": "execute_result"
    }
   ],
   "source": [
    "D = 200000000000\n",
    "np.square((10**-12)*(np.asarray(cycles[0]['TIMETAG'])-D)[np.where(np.asarray(cycles[0]['TIMETAG'])-D>=0)]).mean() / np.square(((10**-12)*(np.asarray(cycles[0]['TIMETAG'])-D)[np.where(np.asarray(cycles[0]['TIMETAG'])-D>=0)].mean()))"
   ]
  },
  {
   "cell_type": "code",
   "execution_count": 1687,
   "metadata": {},
   "outputs": [
    {
     "data": {
      "image/png": "[encoded data removed]",
      "text/plain": [
       "<Figure size 432x288 with 1 Axes>"
      ]
     },
     "metadata": {
      "needs_background": "light"
     },
     "output_type": "display_data"
    }
   ],
   "source": [
    "plt.hist((np.asarray(cycles[0]['TIMETAG'])-D)[np.where(np.asarray(cycles[0]['TIMETAG'])-D>=0)],bins=100);"
   ]
  },
  {
   "cell_type": "code",
   "execution_count": 1699,
   "metadata": {},
   "outputs": [
    {
     "data": {
      "text/plain": [
       "17.69359875897956"
      ]
     },
     "execution_count": 1699,
     "metadata": {},
     "output_type": "execute_result"
    }
   ],
   "source": [
    "np.log(2)/0.03917502538640822"
   ]
  },
  {
   "cell_type": "code",
   "execution_count": 1705,
   "metadata": {
    "scrolled": true
   },
   "outputs": [
    {
     "ename": "ValueError",
     "evalue": "`bins` must increase monotonically, when an array",
     "output_type": "error",
     "traceback": [
      "\u001b[1;31m---------------------------------------------------------------------------\u001b[0m",
      "\u001b[1;31mValueError\u001b[0m                                Traceback (most recent call last)",
      "\u001b[1;32m<ipython-input-1705-3e8f0dd4bdf5>\u001b[0m in \u001b[0;36m<module>\u001b[1;34m\u001b[0m\n\u001b[1;32m----> 1\u001b[1;33m \u001b[0mplt\u001b[0m\u001b[1;33m.\u001b[0m\u001b[0mhist\u001b[0m\u001b[1;33m(\u001b[0m\u001b[0mx\u001b[0m\u001b[1;33m,\u001b[0m\u001b[0my\u001b[0m\u001b[1;33m)\u001b[0m\u001b[1;33m\u001b[0m\u001b[1;33m\u001b[0m\u001b[0m\n\u001b[0m",
      "\u001b[1;32m~\\Anaconda3\\lib\\site-packages\\matplotlib\\pyplot.py\u001b[0m in \u001b[0;36mhist\u001b[1;34m(x, bins, range, density, weights, cumulative, bottom, histtype, align, orientation, rwidth, log, color, label, stacked, normed, data, **kwargs)\u001b[0m\n\u001b[0;32m   2659\u001b[0m         \u001b[0malign\u001b[0m\u001b[1;33m=\u001b[0m\u001b[0malign\u001b[0m\u001b[1;33m,\u001b[0m \u001b[0morientation\u001b[0m\u001b[1;33m=\u001b[0m\u001b[0morientation\u001b[0m\u001b[1;33m,\u001b[0m \u001b[0mrwidth\u001b[0m\u001b[1;33m=\u001b[0m\u001b[0mrwidth\u001b[0m\u001b[1;33m,\u001b[0m \u001b[0mlog\u001b[0m\u001b[1;33m=\u001b[0m\u001b[0mlog\u001b[0m\u001b[1;33m,\u001b[0m\u001b[1;33m\u001b[0m\u001b[1;33m\u001b[0m\u001b[0m\n\u001b[0;32m   2660\u001b[0m         \u001b[0mcolor\u001b[0m\u001b[1;33m=\u001b[0m\u001b[0mcolor\u001b[0m\u001b[1;33m,\u001b[0m \u001b[0mlabel\u001b[0m\u001b[1;33m=\u001b[0m\u001b[0mlabel\u001b[0m\u001b[1;33m,\u001b[0m \u001b[0mstacked\u001b[0m\u001b[1;33m=\u001b[0m\u001b[0mstacked\u001b[0m\u001b[1;33m,\u001b[0m \u001b[0mnormed\u001b[0m\u001b[1;33m=\u001b[0m\u001b[0mnormed\u001b[0m\u001b[1;33m,\u001b[0m\u001b[1;33m\u001b[0m\u001b[1;33m\u001b[0m\u001b[0m\n\u001b[1;32m-> 2661\u001b[1;33m         **({\"data\": data} if data is not None else {}), **kwargs)\n\u001b[0m\u001b[0;32m   2662\u001b[0m \u001b[1;33m\u001b[0m\u001b[0m\n\u001b[0;32m   2663\u001b[0m \u001b[1;33m\u001b[0m\u001b[0m\n",
      "\u001b[1;32m~\\Anaconda3\\lib\\site-packages\\matplotlib\\__init__.py\u001b[0m in \u001b[0;36minner\u001b[1;34m(ax, data, *args, **kwargs)\u001b[0m\n\u001b[0;32m   1808\u001b[0m                         \u001b[1;34m\"the Matplotlib list!)\"\u001b[0m \u001b[1;33m%\u001b[0m \u001b[1;33m(\u001b[0m\u001b[0mlabel_namer\u001b[0m\u001b[1;33m,\u001b[0m \u001b[0mfunc\u001b[0m\u001b[1;33m.\u001b[0m\u001b[0m__name__\u001b[0m\u001b[1;33m)\u001b[0m\u001b[1;33m,\u001b[0m\u001b[1;33m\u001b[0m\u001b[1;33m\u001b[0m\u001b[0m\n\u001b[0;32m   1809\u001b[0m                         RuntimeWarning, stacklevel=2)\n\u001b[1;32m-> 1810\u001b[1;33m             \u001b[1;32mreturn\u001b[0m \u001b[0mfunc\u001b[0m\u001b[1;33m(\u001b[0m\u001b[0max\u001b[0m\u001b[1;33m,\u001b[0m \u001b[1;33m*\u001b[0m\u001b[0margs\u001b[0m\u001b[1;33m,\u001b[0m \u001b[1;33m**\u001b[0m\u001b[0mkwargs\u001b[0m\u001b[1;33m)\u001b[0m\u001b[1;33m\u001b[0m\u001b[1;33m\u001b[0m\u001b[0m\n\u001b[0m\u001b[0;32m   1811\u001b[0m \u001b[1;33m\u001b[0m\u001b[0m\n\u001b[0;32m   1812\u001b[0m         inner.__doc__ = _add_data_doc(inner.__doc__,\n",
      "\u001b[1;32m~\\Anaconda3\\lib\\site-packages\\matplotlib\\axes\\_axes.py\u001b[0m in \u001b[0;36mhist\u001b[1;34m(self, x, bins, range, density, weights, cumulative, bottom, histtype, align, orientation, rwidth, log, color, label, stacked, normed, **kwargs)\u001b[0m\n\u001b[0;32m   6589\u001b[0m             \u001b[1;31m# this will automatically overwrite bins,\u001b[0m\u001b[1;33m\u001b[0m\u001b[1;33m\u001b[0m\u001b[1;33m\u001b[0m\u001b[0m\n\u001b[0;32m   6590\u001b[0m             \u001b[1;31m# so that each histogram uses the same bins\u001b[0m\u001b[1;33m\u001b[0m\u001b[1;33m\u001b[0m\u001b[1;33m\u001b[0m\u001b[0m\n\u001b[1;32m-> 6591\u001b[1;33m             \u001b[0mm\u001b[0m\u001b[1;33m,\u001b[0m \u001b[0mbins\u001b[0m \u001b[1;33m=\u001b[0m \u001b[0mnp\u001b[0m\u001b[1;33m.\u001b[0m\u001b[0mhistogram\u001b[0m\u001b[1;33m(\u001b[0m\u001b[0mx\u001b[0m\u001b[1;33m[\u001b[0m\u001b[0mi\u001b[0m\u001b[1;33m]\u001b[0m\u001b[1;33m,\u001b[0m \u001b[0mbins\u001b[0m\u001b[1;33m,\u001b[0m \u001b[0mweights\u001b[0m\u001b[1;33m=\u001b[0m\u001b[0mw\u001b[0m\u001b[1;33m[\u001b[0m\u001b[0mi\u001b[0m\u001b[1;33m]\u001b[0m\u001b[1;33m,\u001b[0m \u001b[1;33m**\u001b[0m\u001b[0mhist_kwargs\u001b[0m\u001b[1;33m)\u001b[0m\u001b[1;33m\u001b[0m\u001b[1;33m\u001b[0m\u001b[0m\n\u001b[0m\u001b[0;32m   6592\u001b[0m             \u001b[0mm\u001b[0m \u001b[1;33m=\u001b[0m \u001b[0mm\u001b[0m\u001b[1;33m.\u001b[0m\u001b[0mastype\u001b[0m\u001b[1;33m(\u001b[0m\u001b[0mfloat\u001b[0m\u001b[1;33m)\u001b[0m  \u001b[1;31m# causes problems later if it's an int\u001b[0m\u001b[1;33m\u001b[0m\u001b[1;33m\u001b[0m\u001b[0m\n\u001b[0;32m   6593\u001b[0m             \u001b[1;32mif\u001b[0m \u001b[0mmlast\u001b[0m \u001b[1;32mis\u001b[0m \u001b[1;32mNone\u001b[0m\u001b[1;33m:\u001b[0m\u001b[1;33m\u001b[0m\u001b[1;33m\u001b[0m\u001b[0m\n",
      "\u001b[1;32m~\\Anaconda3\\lib\\site-packages\\numpy\\lib\\histograms.py\u001b[0m in \u001b[0;36mhistogram\u001b[1;34m(a, bins, range, normed, weights, density)\u001b[0m\n\u001b[0;32m    708\u001b[0m     \u001b[0ma\u001b[0m\u001b[1;33m,\u001b[0m \u001b[0mweights\u001b[0m \u001b[1;33m=\u001b[0m \u001b[0m_ravel_and_check_weights\u001b[0m\u001b[1;33m(\u001b[0m\u001b[0ma\u001b[0m\u001b[1;33m,\u001b[0m \u001b[0mweights\u001b[0m\u001b[1;33m)\u001b[0m\u001b[1;33m\u001b[0m\u001b[1;33m\u001b[0m\u001b[0m\n\u001b[0;32m    709\u001b[0m \u001b[1;33m\u001b[0m\u001b[0m\n\u001b[1;32m--> 710\u001b[1;33m     \u001b[0mbin_edges\u001b[0m\u001b[1;33m,\u001b[0m \u001b[0muniform_bins\u001b[0m \u001b[1;33m=\u001b[0m \u001b[0m_get_bin_edges\u001b[0m\u001b[1;33m(\u001b[0m\u001b[0ma\u001b[0m\u001b[1;33m,\u001b[0m \u001b[0mbins\u001b[0m\u001b[1;33m,\u001b[0m \u001b[0mrange\u001b[0m\u001b[1;33m,\u001b[0m \u001b[0mweights\u001b[0m\u001b[1;33m)\u001b[0m\u001b[1;33m\u001b[0m\u001b[1;33m\u001b[0m\u001b[0m\n\u001b[0m\u001b[0;32m    711\u001b[0m \u001b[1;33m\u001b[0m\u001b[0m\n\u001b[0;32m    712\u001b[0m     \u001b[1;31m# Histogram is an integer or a float array depending on the weights.\u001b[0m\u001b[1;33m\u001b[0m\u001b[1;33m\u001b[0m\u001b[1;33m\u001b[0m\u001b[0m\n",
      "\u001b[1;32m~\\Anaconda3\\lib\\site-packages\\numpy\\lib\\histograms.py\u001b[0m in \u001b[0;36m_get_bin_edges\u001b[1;34m(a, bins, range, weights)\u001b[0m\n\u001b[0;32m    367\u001b[0m         \u001b[1;32mif\u001b[0m \u001b[0mnp\u001b[0m\u001b[1;33m.\u001b[0m\u001b[0many\u001b[0m\u001b[1;33m(\u001b[0m\u001b[0mbin_edges\u001b[0m\u001b[1;33m[\u001b[0m\u001b[1;33m:\u001b[0m\u001b[1;33m-\u001b[0m\u001b[1;36m1\u001b[0m\u001b[1;33m]\u001b[0m \u001b[1;33m>\u001b[0m \u001b[0mbin_edges\u001b[0m\u001b[1;33m[\u001b[0m\u001b[1;36m1\u001b[0m\u001b[1;33m:\u001b[0m\u001b[1;33m]\u001b[0m\u001b[1;33m)\u001b[0m\u001b[1;33m:\u001b[0m\u001b[1;33m\u001b[0m\u001b[1;33m\u001b[0m\u001b[0m\n\u001b[0;32m    368\u001b[0m             raise ValueError(\n\u001b[1;32m--> 369\u001b[1;33m                 '`bins` must increase monotonically, when an array')\n\u001b[0m\u001b[0;32m    370\u001b[0m \u001b[1;33m\u001b[0m\u001b[0m\n\u001b[0;32m    371\u001b[0m     \u001b[1;32melse\u001b[0m\u001b[1;33m:\u001b[0m\u001b[1;33m\u001b[0m\u001b[1;33m\u001b[0m\u001b[0m\n",
      "\u001b[1;31mValueError\u001b[0m: `bins` must increase monotonically, when an array"
     ]
    },
    {
     "data": {
      "image/png": "[encoded data removed]",
      "text/plain": [
       "<Figure size 432x288 with 1 Axes>"
      ]
     },
     "metadata": {
      "needs_background": "light"
     },
     "output_type": "display_data"
    }
   ],
   "source": []
  },
  {
   "cell_type": "code",
   "execution_count": 1706,
   "metadata": {},
   "outputs": [
    {
     "ename": "ValueError",
     "evalue": "`bins` must increase monotonically, when an array",
     "output_type": "error",
     "traceback": [
      "\u001b[1;31m---------------------------------------------------------------------------\u001b[0m",
      "\u001b[1;31mValueError\u001b[0m                                Traceback (most recent call last)",
      "\u001b[1;32m<ipython-input-1706-3e8f0dd4bdf5>\u001b[0m in \u001b[0;36m<module>\u001b[1;34m\u001b[0m\n\u001b[1;32m----> 1\u001b[1;33m \u001b[0mplt\u001b[0m\u001b[1;33m.\u001b[0m\u001b[0mhist\u001b[0m\u001b[1;33m(\u001b[0m\u001b[0mx\u001b[0m\u001b[1;33m,\u001b[0m\u001b[0my\u001b[0m\u001b[1;33m)\u001b[0m\u001b[1;33m\u001b[0m\u001b[1;33m\u001b[0m\u001b[0m\n\u001b[0m",
      "\u001b[1;32m~\\Anaconda3\\lib\\site-packages\\matplotlib\\pyplot.py\u001b[0m in \u001b[0;36mhist\u001b[1;34m(x, bins, range, density, weights, cumulative, bottom, histtype, align, orientation, rwidth, log, color, label, stacked, normed, data, **kwargs)\u001b[0m\n\u001b[0;32m   2659\u001b[0m         \u001b[0malign\u001b[0m\u001b[1;33m=\u001b[0m\u001b[0malign\u001b[0m\u001b[1;33m,\u001b[0m \u001b[0morientation\u001b[0m\u001b[1;33m=\u001b[0m\u001b[0morientation\u001b[0m\u001b[1;33m,\u001b[0m \u001b[0mrwidth\u001b[0m\u001b[1;33m=\u001b[0m\u001b[0mrwidth\u001b[0m\u001b[1;33m,\u001b[0m \u001b[0mlog\u001b[0m\u001b[1;33m=\u001b[0m\u001b[0mlog\u001b[0m\u001b[1;33m,\u001b[0m\u001b[1;33m\u001b[0m\u001b[1;33m\u001b[0m\u001b[0m\n\u001b[0;32m   2660\u001b[0m         \u001b[0mcolor\u001b[0m\u001b[1;33m=\u001b[0m\u001b[0mcolor\u001b[0m\u001b[1;33m,\u001b[0m \u001b[0mlabel\u001b[0m\u001b[1;33m=\u001b[0m\u001b[0mlabel\u001b[0m\u001b[1;33m,\u001b[0m \u001b[0mstacked\u001b[0m\u001b[1;33m=\u001b[0m\u001b[0mstacked\u001b[0m\u001b[1;33m,\u001b[0m \u001b[0mnormed\u001b[0m\u001b[1;33m=\u001b[0m\u001b[0mnormed\u001b[0m\u001b[1;33m,\u001b[0m\u001b[1;33m\u001b[0m\u001b[1;33m\u001b[0m\u001b[0m\n\u001b[1;32m-> 2661\u001b[1;33m         **({\"data\": data} if data is not None else {}), **kwargs)\n\u001b[0m\u001b[0;32m   2662\u001b[0m \u001b[1;33m\u001b[0m\u001b[0m\n\u001b[0;32m   2663\u001b[0m \u001b[1;33m\u001b[0m\u001b[0m\n",
      "\u001b[1;32m~\\Anaconda3\\lib\\site-packages\\matplotlib\\__init__.py\u001b[0m in \u001b[0;36minner\u001b[1;34m(ax, data, *args, **kwargs)\u001b[0m\n\u001b[0;32m   1808\u001b[0m                         \u001b[1;34m\"the Matplotlib list!)\"\u001b[0m \u001b[1;33m%\u001b[0m \u001b[1;33m(\u001b[0m\u001b[0mlabel_namer\u001b[0m\u001b[1;33m,\u001b[0m \u001b[0mfunc\u001b[0m\u001b[1;33m.\u001b[0m\u001b[0m__name__\u001b[0m\u001b[1;33m)\u001b[0m\u001b[1;33m,\u001b[0m\u001b[1;33m\u001b[0m\u001b[1;33m\u001b[0m\u001b[0m\n\u001b[0;32m   1809\u001b[0m                         RuntimeWarning, stacklevel=2)\n\u001b[1;32m-> 1810\u001b[1;33m             \u001b[1;32mreturn\u001b[0m \u001b[0mfunc\u001b[0m\u001b[1;33m(\u001b[0m\u001b[0max\u001b[0m\u001b[1;33m,\u001b[0m \u001b[1;33m*\u001b[0m\u001b[0margs\u001b[0m\u001b[1;33m,\u001b[0m \u001b[1;33m**\u001b[0m\u001b[0mkwargs\u001b[0m\u001b[1;33m)\u001b[0m\u001b[1;33m\u001b[0m\u001b[1;33m\u001b[0m\u001b[0m\n\u001b[0m\u001b[0;32m   1811\u001b[0m \u001b[1;33m\u001b[0m\u001b[0m\n\u001b[0;32m   1812\u001b[0m         inner.__doc__ = _add_data_doc(inner.__doc__,\n",
      "\u001b[1;32m~\\Anaconda3\\lib\\site-packages\\matplotlib\\axes\\_axes.py\u001b[0m in \u001b[0;36mhist\u001b[1;34m(self, x, bins, range, density, weights, cumulative, bottom, histtype, align, orientation, rwidth, log, color, label, stacked, normed, **kwargs)\u001b[0m\n\u001b[0;32m   6589\u001b[0m             \u001b[1;31m# this will automatically overwrite bins,\u001b[0m\u001b[1;33m\u001b[0m\u001b[1;33m\u001b[0m\u001b[1;33m\u001b[0m\u001b[0m\n\u001b[0;32m   6590\u001b[0m             \u001b[1;31m# so that each histogram uses the same bins\u001b[0m\u001b[1;33m\u001b[0m\u001b[1;33m\u001b[0m\u001b[1;33m\u001b[0m\u001b[0m\n\u001b[1;32m-> 6591\u001b[1;33m             \u001b[0mm\u001b[0m\u001b[1;33m,\u001b[0m \u001b[0mbins\u001b[0m \u001b[1;33m=\u001b[0m \u001b[0mnp\u001b[0m\u001b[1;33m.\u001b[0m\u001b[0mhistogram\u001b[0m\u001b[1;33m(\u001b[0m\u001b[0mx\u001b[0m\u001b[1;33m[\u001b[0m\u001b[0mi\u001b[0m\u001b[1;33m]\u001b[0m\u001b[1;33m,\u001b[0m \u001b[0mbins\u001b[0m\u001b[1;33m,\u001b[0m \u001b[0mweights\u001b[0m\u001b[1;33m=\u001b[0m\u001b[0mw\u001b[0m\u001b[1;33m[\u001b[0m\u001b[0mi\u001b[0m\u001b[1;33m]\u001b[0m\u001b[1;33m,\u001b[0m \u001b[1;33m**\u001b[0m\u001b[0mhist_kwargs\u001b[0m\u001b[1;33m)\u001b[0m\u001b[1;33m\u001b[0m\u001b[1;33m\u001b[0m\u001b[0m\n\u001b[0m\u001b[0;32m   6592\u001b[0m             \u001b[0mm\u001b[0m \u001b[1;33m=\u001b[0m \u001b[0mm\u001b[0m\u001b[1;33m.\u001b[0m\u001b[0mastype\u001b[0m\u001b[1;33m(\u001b[0m\u001b[0mfloat\u001b[0m\u001b[1;33m)\u001b[0m  \u001b[1;31m# causes problems later if it's an int\u001b[0m\u001b[1;33m\u001b[0m\u001b[1;33m\u001b[0m\u001b[0m\n\u001b[0;32m   6593\u001b[0m             \u001b[1;32mif\u001b[0m \u001b[0mmlast\u001b[0m \u001b[1;32mis\u001b[0m \u001b[1;32mNone\u001b[0m\u001b[1;33m:\u001b[0m\u001b[1;33m\u001b[0m\u001b[1;33m\u001b[0m\u001b[0m\n",
      "\u001b[1;32m~\\Anaconda3\\lib\\site-packages\\numpy\\lib\\histograms.py\u001b[0m in \u001b[0;36mhistogram\u001b[1;34m(a, bins, range, normed, weights, density)\u001b[0m\n\u001b[0;32m    708\u001b[0m     \u001b[0ma\u001b[0m\u001b[1;33m,\u001b[0m \u001b[0mweights\u001b[0m \u001b[1;33m=\u001b[0m \u001b[0m_ravel_and_check_weights\u001b[0m\u001b[1;33m(\u001b[0m\u001b[0ma\u001b[0m\u001b[1;33m,\u001b[0m \u001b[0mweights\u001b[0m\u001b[1;33m)\u001b[0m\u001b[1;33m\u001b[0m\u001b[1;33m\u001b[0m\u001b[0m\n\u001b[0;32m    709\u001b[0m \u001b[1;33m\u001b[0m\u001b[0m\n\u001b[1;32m--> 710\u001b[1;33m     \u001b[0mbin_edges\u001b[0m\u001b[1;33m,\u001b[0m \u001b[0muniform_bins\u001b[0m \u001b[1;33m=\u001b[0m \u001b[0m_get_bin_edges\u001b[0m\u001b[1;33m(\u001b[0m\u001b[0ma\u001b[0m\u001b[1;33m,\u001b[0m \u001b[0mbins\u001b[0m\u001b[1;33m,\u001b[0m \u001b[0mrange\u001b[0m\u001b[1;33m,\u001b[0m \u001b[0mweights\u001b[0m\u001b[1;33m)\u001b[0m\u001b[1;33m\u001b[0m\u001b[1;33m\u001b[0m\u001b[0m\n\u001b[0m\u001b[0;32m    711\u001b[0m \u001b[1;33m\u001b[0m\u001b[0m\n\u001b[0;32m    712\u001b[0m     \u001b[1;31m# Histogram is an integer or a float array depending on the weights.\u001b[0m\u001b[1;33m\u001b[0m\u001b[1;33m\u001b[0m\u001b[1;33m\u001b[0m\u001b[0m\n",
      "\u001b[1;32m~\\Anaconda3\\lib\\site-packages\\numpy\\lib\\histograms.py\u001b[0m in \u001b[0;36m_get_bin_edges\u001b[1;34m(a, bins, range, weights)\u001b[0m\n\u001b[0;32m    367\u001b[0m         \u001b[1;32mif\u001b[0m \u001b[0mnp\u001b[0m\u001b[1;33m.\u001b[0m\u001b[0many\u001b[0m\u001b[1;33m(\u001b[0m\u001b[0mbin_edges\u001b[0m\u001b[1;33m[\u001b[0m\u001b[1;33m:\u001b[0m\u001b[1;33m-\u001b[0m\u001b[1;36m1\u001b[0m\u001b[1;33m]\u001b[0m \u001b[1;33m>\u001b[0m \u001b[0mbin_edges\u001b[0m\u001b[1;33m[\u001b[0m\u001b[1;36m1\u001b[0m\u001b[1;33m:\u001b[0m\u001b[1;33m]\u001b[0m\u001b[1;33m)\u001b[0m\u001b[1;33m:\u001b[0m\u001b[1;33m\u001b[0m\u001b[1;33m\u001b[0m\u001b[0m\n\u001b[0;32m    368\u001b[0m             raise ValueError(\n\u001b[1;32m--> 369\u001b[1;33m                 '`bins` must increase monotonically, when an array')\n\u001b[0m\u001b[0;32m    370\u001b[0m \u001b[1;33m\u001b[0m\u001b[0m\n\u001b[0;32m    371\u001b[0m     \u001b[1;32melse\u001b[0m\u001b[1;33m:\u001b[0m\u001b[1;33m\u001b[0m\u001b[1;33m\u001b[0m\u001b[0m\n",
      "\u001b[1;31mValueError\u001b[0m: `bins` must increase monotonically, when an array"
     ]
    },
    {
     "data": {
      "image/png": "[encoded data removed]",
      "text/plain": [
       "<Figure size 432x288 with 1 Axes>"
      ]
     },
     "metadata": {
      "needs_background": "light"
     },
     "output_type": "display_data"
    }
   ],
   "source": [
    "plt.hist(x,y)"
   ]
  },
  {
   "cell_type": "code",
   "execution_count": 1712,
   "metadata": {
    "scrolled": true
   },
   "outputs": [
    {
     "data": {
      "image/png": "[encoded data removed]",
      "text/plain": [
       "<Figure size 432x288 with 1 Axes>"
      ]
     },
     "metadata": {
      "needs_background": "light"
     },
     "output_type": "display_data"
    }
   ],
   "source": [
    "plt.plot(x,y)\n",
    "plt.plot(x,35353.3456795782*np.e**(-0.03917502538640822*x))\n",
    "plt.yscale('log')"
   ]
  }
 ],
 "metadata": {
  "kernelspec": {
   "display_name": "Python 3",
   "language": "python",
   "name": "python3"
  },
  "language_info": {
   "codemirror_mode": {
    "name": "ipython",
    "version": 3
   },
   "file_extension": ".py",
   "mimetype": "text/x-python",
   "name": "python",
   "nbconvert_exporter": "python",
   "pygments_lexer": "ipython3",
   "version": "3.6.8"
  }
 },
 "nbformat": 4,
 "nbformat_minor": 2
}
