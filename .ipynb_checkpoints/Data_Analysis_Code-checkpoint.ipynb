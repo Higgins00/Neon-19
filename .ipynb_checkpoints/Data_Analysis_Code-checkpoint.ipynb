{
 "cells": [
  {
   "cell_type": "markdown",
   "metadata": {},
   "source": [
    "# Libraries Necessary "
   ]
  },
  {
   "cell_type": "code",
   "execution_count": 1,
   "metadata": {},
   "outputs": [],
   "source": [
    "import pandas as pd\n",
    "import matplotlib.pyplot as plt\n",
    "import numpy as np\n",
    "from scipy import stats\n",
    "import scipy as sp\n",
    "import math\n",
    "import random\n",
<<<<<<< HEAD
    "from scipy.optimize import curve_fit,minimize\n",
    "from numpy.linalg import inv"
=======
    "from scipy.optimize import curve_fit,minimize\n"
>>>>>>> 808a41cbd298786de24f3fe2047d7a1dbc221cfa
   ]
  },
  {
   "cell_type": "markdown",
   "metadata": {},
   "source": [
    "# Code for reading in the data from a run"
   ]
  },
  {
   "cell_type": "code",
   "execution_count": 58,
   "metadata": {},
   "outputs": [],
   "source": [
    "#This creates a dataframe for each channel\n",
    "\n",
    "def create_string(location):\n",
    "    path0 = 'C:/Users/higgi/Downloads/CH0@DT5725_1146_Data_{0:s}.csv'.format(location)\n",
    "    path2 = 'C:/Users/higgi/Downloads/CH2@DT5725_1146_Data_{0:s}.csv'.format(location)\n",
    "    \n",
    "    path = [path0,path2]\n",
    "    return path\n",
    "\n",
    "#def create_string(location):\n",
    "    #path0 = '/home/cenpa/Ne19/DAQ/FinalConfigSettings/DAQ/{0:s}/UNFILTERED/CH0@DT5725_1146_Data_{0:s}.csv'.format(location)\n",
    "    #path2 = '/home/cenpa/Ne19/DAQ/FinalConfigSettings/DAQ/{0:s}/UNFILTERED/CH2@DT5725_1146_Data_{0:s}.csv'.format(location)\n",
    "    \n",
    "    #path = [path0,path2]\n",
    "    #return path\n",
    "\n",
    "\n",
    "\n",
    "#write the folder location where 'BiTest-03' is\n",
    "run_name = 'Ne19rundeltaE-02-22-20_5'\n",
    "\n",
    "\n",
    "#ch0_df = pd.read_csv(path[0],sep=';')\n",
    "#ch1_df = pd.read_csv(path[1],sep=';')\n",
    "\n",
    "def Run_Data(run_folder_name):\n",
    "    return[pd.read_csv(create_string(run_name)[i],sep=';') for i in range(2)]"
   ]
  },
  {
   "cell_type": "markdown",
   "metadata": {},
   "source": [
    "# Code for splitting the data into separate cycles"
   ]
  },
  {
   "cell_type": "code",
   "execution_count": 59,
   "metadata": {},
   "outputs": [],
   "source": [
    "def Split_Data(ch0_dataFrame,ch2_dataFrame,minimum_counts = 0):\n",
    "    \"\"\"This function returns a list of the data split by run for channel0 based on the triggering from channel2\"\"\"\n",
    "    #initializing an empty list for coincidencedata ch0 \n",
    "    #by the clock from ch2\n",
    "    \n",
    "    ch0split_data = []\n",
    "    \n",
    "    \n",
    "    #iterating through the number of times ch2 recieved a signal from our clock\n",
    "    for i in np.arange(0,len(ch2_dataFrame)-1):\n",
    "        \n",
    "        #creating a mask to separate the full data into their individual runs for ch0\n",
    "        ch0time_mask = np.where((ch0_dataFrame['TIMETAG'] > ch2_dataFrame['TIMETAG'][i]) & \n",
    "                                (ch0_dataFrame['TIMETAG'] < ch2_dataFrame['TIMETAG'][i+1]-(89*10**12)))\n",
    "        \n",
    "        \n",
    "        #This number for minimum counts is to remove any possible signals that may occur when we are not running but still collecting data\n",
    "        if len(ch0time_mask[0]) >= minimum_counts:\n",
    "            \n",
    "            #for each run I am creating a new dataframe and storing in a list\n",
    "            split_dataFrame0 = ch0_dataFrame.iloc[[ch0time_mask][0][0]].copy()\n",
    "            #resetting the index\n",
    "            split_dataFrame0 = split_dataFrame0.reset_index(drop=True)\n",
    "            \n",
    "            ch0split_data.extend([split_dataFrame0])\n",
    "\n",
    "    #returns arrays of dataframes for channel0       \n",
    "    return ch0split_data"
   ]
  },
  {
   "cell_type": "markdown",
   "metadata": {},
   "source": [
    "# Code for binning the data for count rate information"
   ]
  },
  {
   "cell_type": "code",
<<<<<<< HEAD
   "execution_count": 60,
=======
   "execution_count": 4,
>>>>>>> 808a41cbd298786de24f3fe2047d7a1dbc221cfa
   "metadata": {},
   "outputs": [],
   "source": [
    "#Bin size is in units of seconds\n",
    "def count_rate(single_run_coincidences,cutoff=0, bin_size = 1):\n",
    "    \n",
    "    #Converting units to seconds\n",
    "    bin_seconds = bin_size*(10**12)\n",
    "    \n",
    "    #Setting the run timetags to start at 0\n",
    "    singlerun = (single_run_coincidences['TIMETAG']).where((10**-12)*single_run_coincidences['TIMETAG']>=(10**-12)*single_run_coincidences['TIMETAG'].min()+cutoff).dropna()\n",
    "    singlerun = singlerun-singlerun.min()\n",
    "    #Creating an array of the time spacings\n",
    "    time_axis = np.arange(0,singlerun.max()-bin_seconds,bin_seconds)\n",
    "    \n",
    "    def time_binning(i):\n",
    "        #function to create the number of \n",
    "        number_of_counts = np.where((singlerun >= i) & \n",
    "                                    (singlerun < i+bin_seconds))\n",
    "        return len(number_of_counts[0])\n",
    "    #returning an array of the time axis and the counts\n",
    "    return time_axis*(10**-12), np.asarray([time_binning(i) for i in time_axis])"
   ]
  },
  {
   "cell_type": "markdown",
   "metadata": {},
   "source": [
    "# Code for plotting the counts"
   ]
  },
  {
   "cell_type": "code",
<<<<<<< HEAD
   "execution_count": 61,
=======
   "execution_count": 5,
>>>>>>> 808a41cbd298786de24f3fe2047d7a1dbc221cfa
   "metadata": {},
   "outputs": [],
   "source": [
    "def plot_rate(coincidences,cycle_number, bin_size = 1):\n",
    "    \n",
    "    x,y = count_rate(coincidences[cycle_number],bin_size = bin_size)\n",
    "    fig, ax = plt.subplots(1,figsize=(12,5))\n",
    "\n",
    "    #ax.errorbar(x,y,yerr=np.sqrt(y), label= 'Limits')\n",
    "\n",
    "    ax.plot(x,y)\n",
    "    ax.set_title('Run from {0:s} Cycle Number {1:d}'.format(run_name,cycle_number))\n",
    "    ax.set_ylabel('Counts')\n",
    "    ax.set_xlabel('Seconds')"
   ]
  },
  {
   "cell_type": "markdown",
   "metadata": {},
   "source": [
    "# Data Analysis Code"
   ]
  },
  {
   "cell_type": "markdown",
   "metadata": {},
   "source": [
    "$$N=N_0 e^{-\\lambda t} +B$$"
   ]
  },
  {
   "cell_type": "markdown",
   "metadata": {},
   "source": [
    "$$N= {\\frac  {N_{m}}{1-N_{m}D}}$$"
   ]
  },
  {
   "cell_type": "markdown",
<<<<<<< HEAD
=======
   "metadata": {},
   "source": [
    "$$M_i = -\\frac{1}{\\lambda D} \\ln\\left( 1+B+DN_0 e^{-\\lambda T_i}\\right) + \\frac{1}{\\lambda D} \\ln\\left( 1+B+DN_0 e^{-\\lambda T_{i-1}}\\right) $$"
   ]
  },
  {
   "cell_type": "code",
   "execution_count": 148,
>>>>>>> 808a41cbd298786de24f3fe2047d7a1dbc221cfa
   "metadata": {},
   "source": [
    "$$M_i = \\int_{T_{i-1}}^{T_i} \\frac{N}{1+ND}dt$$"
   ]
  },
  {
   "cell_type": "code",
   "execution_count": 74,
   "metadata": {
    "scrolled": true
   },
   "outputs": [],
   "source": [
    "def Convert_Measured_to_Actual(counts,background = 0, bin_size = 1,deadtime = 0.000016):\n",
    "    background_subtracted_counts = counts - background\n",
    "    return background_subtracted_counts/(1-background_subtracted_counts*deadtime/bin_size)\n",
    "\n",
<<<<<<< HEAD
    "def optimize_single_cycle(counts, binsize=1, deadtime=0.000016, rc=.039, cutoff=100):\n",
    "    t,measured = count_rate(single_run_coincidences=counts, cutoff=cutoff, bin_size = binsize)\n",
    "    def chisquaredfunction(params):\n",
    "        D,l,N0,B = params\n",
    "        \n",
    "        expected = (np.log(np.absolute((D*N0*np.exp(-l*np.asarray(t[0:len(t)-1]))+B*D+1)/(D*N0*np.exp(-l*np.asarray(t[1:len(t)]))+B*D+1))) + B*D*l*(np.asarray(t[1:len(t)])-np.asarray(t[0:len(t)-1])))/(B*D*D*l+D*l)\n",
    "        \n",
    "        measured[0:len(measured)-1][np.where(measured[0:len(measured)-1]==0)] = 1\n",
    "        chisquared = np.sum((np.square(measured[0:len(measured)-1] - expected)) / measured[0:len(measured)-1])\n",
    "        return chisquared#t,measured[0:len(measured)-1],expected,chisquared\n",
    "    initial_guess = [rc, measured[0]/(1-measured[0]*deadtime/binsize),B]\n",
    "    return minimize(chisquaredfunction, initial_guess)\n",
=======
    "def optimize_actual(counts,background=0, binsize=1, deadtime=0.000016, rc=.039):\n",
    "    t,measured = count_rate(single_run_coincidences=counts, bin_size = binsize)\n",
    "    def chisquaredfunction(params):\n",
    "        D,B,l,N0 = params\n",
    "        \n",
    "        expected = (1/(l*D/binsize)) * (np.log(np.absolute(1+B+(D/binsize)*N0*np.exp(-l*t[0:len(t)-1]))) - np.log(np.absolute(1+B+(D/binsize)*N0*np.exp(-l*t[1:len(t)]))))\n",
    "        chisquared = np.sum(((measured[0:len(measured)-1] - expected)**2) / expected)\n",
    "        return chisquared\n",
    "    initial_guess = [deadtime, background, 0.039308854518104605, 298005.4722107427]\n",
    "    return minimize(chisquaredfunction, initial_guess, method='CG')  #chisquaredfunction(initial_guess)\n",
>>>>>>> 808a41cbd298786de24f3fe2047d7a1dbc221cfa
    "        \n",
    "\n",
    "    \n",
    "def fit_function(t,N,l):\n",
    "    return (N*np.exp((-t*l)))\n",
    "\n",
    "def final_analysis(time,counts,rc):\n",
    "    \n",
    "    popt, pcov = curve_fit(fit_function, xdata=time, ydata=counts, p0=[counts[0],rc])\n",
    "        \n",
    "\n",
    "        \n",
    "        \n",
    "    return {'N_0' : popt[0],\"Decay_Constant\": popt[1],\"Covariance Matrix\": pcov}"
   ]
  },
  {
<<<<<<< HEAD
   "cell_type": "markdown",
=======
   "cell_type": "code",
   "execution_count": 149,
>>>>>>> 808a41cbd298786de24f3fe2047d7a1dbc221cfa
   "metadata": {},
   "source": [
    "$$M_i = \\dfrac{\\ln\\left(\\left|\\frac{DN_0\\mathrm{e}^{-\\lambda T_{i-1}}+BD+1}{DN_0\\mathrm{e}^{-\\lambda T_i}+BD+1}\\right|\\right)+BD\\lambda( T_i-T_{i-1})}{\\left(BD^2+D\\right)\\lambda}$$"
   ]
  },
  {
   "cell_type": "code",
<<<<<<< HEAD
   "execution_count": 72,
=======
   "execution_count": 24,
>>>>>>> 808a41cbd298786de24f3fe2047d7a1dbc221cfa
   "metadata": {},
   "outputs": [],
   "source": [
    "def optimize_sharedvalues(counts, binsize=1, deadtime=0.000016, rc=.039, cutoff=0):\n",
    "    cycle_data = counts\n",
    "    numbercycles = len(counts)\n",
    "    t=[]\n",
    "    measured=[]\n",
    "    for i in np.arange(0,numbercycles):\n",
    "        t_temporary,measured_temporary = count_rate(single_run_coincidences=cycle_data[i], cutoff=cutoff, bin_size = binsize)\n",
    "        np.asarray(measured_temporary)[0:len(measured_temporary)-1][np.where(measured_temporary[0:len(measured_temporary)-1]==0)] = 1\n",
    "        measured_temporary = measured_temporary[0:len(measured_temporary)-1]\n",
    "        t.extend([[t_temporary]])\n",
    "        measured.extend([[measured_temporary]])\n",
    "    def chisquaredfun(params):\n",
    "\n",
    "        \n",
    "            \n",
    "        \n",
    "        D = deadtime#params[0]\n",
    "        l = params[0]\n",
    "        B = params[1:1+numbercycles]\n",
    "        N0 = params[1+numbercycles:1+2*numbercycles]\n",
    "        \n",
    "        expected = []\n",
    "        for i in np.arange(numbercycles):\n",
    "            expected_temp = (np.log(np.absolute((D*N0[i]*np.exp(-l*np.asarray(t[i][0][0:len(t[i][0])-1]))+B[i]*D+1)/(D*N0[i]*np.exp(-l*np.asarray(t[i][0][1:len(t[i][0])]))+B[i]*D+1))) + B[i]*D*l*(np.asarray(t[i][0][1:len(t[i][0])])-np.asarray(t[i][0][0:len(t[i][0])-1])))/(B[i]*D*D*l+D*l)\n",
    "\n",
    "            expected.extend([[expected_temp]])\n",
    "                        \n",
    "        chisquared = ((np.square(np.asarray(measured) - np.asarray(expected))) / np.asarray(measured))\n",
    "        \n",
    "        return np.sum([np.sum(item[0])for item in chisquared])\n",
    "    B_guess = np.ones(numbercycles)\n",
    "    N0_guess = [item[0][0]for item in measured]\n",
    "\n",
    "    \n",
    "    \n",
    "    initial_guess = [ rc, *np.ones(numbercycles), *N0_guess ]\n",
    "    #initial_guess = [deadtime, rc,a,b,c,d,e,f,g,h,i,j ]\n",
    "\n",
    "    return minimize(chisquaredfun, initial_guess)#,method = 'L-BFGS-B', bounds = [(0.000001,.001),(.01,.05),(.01,30),(.01,30),(.01,30),(.01,30),(.01,30),(1000,None),(1000,None),(1000,None),(1000,None),(1000,None)]) "
   ]
  },
  {
<<<<<<< HEAD
   "cell_type": "markdown",
=======
   "cell_type": "code",
   "execution_count": 159,
   "metadata": {},
   "outputs": [],
   "source": [
    "op = optimize_actual(cycles[0],background=6.83,binsize=10)"
   ]
  },
  {
   "cell_type": "code",
   "execution_count": 160,
   "metadata": {},
   "outputs": [
    {
     "data": {
      "text/plain": [
       "     fun: 54.099891075464924\n",
       "     jac: array([ 1.52330041e+04,  2.47996612e+01,  1.50067481e+04, -5.33580780e-04])\n",
       " message: 'Desired error not necessarily achieved due to precision loss.'\n",
       "    nfev: 335\n",
       "     nit: 4\n",
       "    njev: 53\n",
       "  status: 2\n",
       " success: False\n",
       "       x: array([1.73625914e-04, 6.83000204e+00, 4.05658685e-02, 2.98005472e+05])"
      ]
     },
     "execution_count": 160,
     "metadata": {},
     "output_type": "execute_result"
    }
   ],
   "source": [
    "op"
   ]
  },
  {
   "cell_type": "code",
   "execution_count": 114,
   "metadata": {},
   "outputs": [
    {
     "data": {
      "text/plain": [
       "{'N_0': 298005.4722107427,\n",
       " 'Decay_Constant': 0.03930885297486309,\n",
       " 'Covariance Matrix': array([[8.90655032e+05, 1.11785435e-01],\n",
       "        [1.11785435e-01, 4.48255249e-08]])}"
      ]
     },
     "execution_count": 114,
     "metadata": {},
     "output_type": "execute_result"
    }
   ],
   "source": [
    "t,c = count_rate(cycles[0],bin_size=10)\n",
    "co = Convert_Measured_to_Actual(counts = c, background=0, bin_size=10, deadtime = 1.6e-05 )\n",
    "fa = final_analysis(t[np.where(co>0)],co[np.where(co>0)],4.05557576e-02)\n",
    "fa"
   ]
  },
  {
   "cell_type": "code",
   "execution_count": 115,
   "metadata": {
    "scrolled": true
   },
   "outputs": [
    {
     "data": {
      "text/plain": [
       "<matplotlib.collections.PathCollection at 0x136898ec9b0>"
      ]
     },
     "execution_count": 115,
     "metadata": {},
     "output_type": "execute_result"
    },
    {
     "data": {
      "image/png": "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\n",
      "text/plain": [
       "<Figure size 432x288 with 1 Axes>"
      ]
     },
     "metadata": {
      "needs_background": "light"
     },
     "output_type": "display_data"
    }
   ],
   "source": [
    "plt.scatter(t,c)\n",
    "plt.scatter(t[np.where(co>0)],co)"
   ]
  },
  {
   "cell_type": "code",
   "execution_count": 105,
   "metadata": {},
   "outputs": [
    {
     "data": {
      "text/plain": [
       "6.372464979497937"
      ]
     },
     "execution_count": 105,
     "metadata": {},
     "output_type": "execute_result"
    }
   ],
   "source": [
    "np.sum((co-c[8:])**2 / c[8:])"
   ]
  },
  {
   "cell_type": "code",
   "execution_count": 155,
   "metadata": {},
   "outputs": [
    {
     "data": {
      "text/plain": [
       "array([8.90655032e+05, 4.48255249e-08])"
      ]
     },
     "execution_count": 155,
     "metadata": {},
     "output_type": "execute_result"
    }
   ],
   "source": [
    "np.diagonal(fa['Covariance Matrix'])"
   ]
  },
  {
   "cell_type": "code",
   "execution_count": 175,
   "metadata": {},
   "outputs": [
    {
     "data": {
      "image/png": "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\n",
      "text/plain": [
       "<Figure size 432x288 with 1 Axes>"
      ]
     },
     "metadata": {
      "needs_background": "light"
     },
     "output_type": "display_data"
    }
   ],
   "source": [
    "#plt.scatter(t[np.where(co>0)],co[np.where(co>0)])\n",
    "plt.scatter(t,c)\n",
    "#plt.scatter(t[0:len(op[1])],op[1])\n",
    "x = np.arange(0,200,10)\n",
    "D,B,l,N0 = op.x\n",
    "y = (1/(l*D/10)) * (np.log(np.absolute(1+B+(D/10)*N0*np.exp(-l*t[0:len(t)-1]))) - np.log(np.absolute(1+B+(D/10)*N0*np.exp(-l*t[1:len(t)]))))\n",
    "plt.scatter(x,y)\n",
    "x1 = np.linspace(0,200,1000)\n",
    "y1 = N0*np.exp(-l*x1) + B\n",
    "plt.plot(x1,y1)\n",
    "plt.yscale('log')"
   ]
  },
  {
   "cell_type": "code",
   "execution_count": 22,
   "metadata": {},
   "outputs": [
    {
     "data": {
      "text/plain": [
       "[<matplotlib.lines.Line2D at 0x13687ffa7b8>]"
      ]
     },
     "execution_count": 22,
     "metadata": {},
     "output_type": "execute_result"
    },
    {
     "data": {
      "image/png": "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\n",
      "text/plain": [
       "<Figure size 432x288 with 1 Axes>"
      ]
     },
     "metadata": {
      "needs_background": "light"
     },
     "output_type": "display_data"
    }
   ],
   "source": [
    "plt.plot(np.arange(0,20),c[0:20])"
   ]
  },
  {
   "cell_type": "code",
   "execution_count": 174,
   "metadata": {},
   "outputs": [
    {
     "data": {
      "text/plain": [
       "Power_divergenceResult(statistic=53.08527007638611, pvalue=4.544248951729615e-05)"
      ]
     },
     "execution_count": 174,
     "metadata": {},
     "output_type": "execute_result"
    }
   ],
   "source": [
    "stats.chisquare(y,c[0:20],ddof=0)"
   ]
  },
  {
   "cell_type": "code",
   "execution_count": 1086,
>>>>>>> 808a41cbd298786de24f3fe2047d7a1dbc221cfa
   "metadata": {},
   "source": [
    "$$N=N_0 e^{-\\lambda t} + B$$\n",
    "\n",
    "$$M_i = \\frac{N_0}{\\lambda}\\left( e^{-\\lambda T_{i-1}}- e^{-\\lambda T_{i}}\\right) + B(T_i - T_{i-1})$$"
   ]
  },
  {
   "cell_type": "code",
   "execution_count": 71,
   "metadata": {},
   "outputs": [],
   "source": [
    "def optimize_sharedvalues_simple(counts, binsize=1, deadtime=0.000016, rc=.039, cutoff=0):\n",
    "    cycle_data = counts\n",
    "    numbercycles = len(counts)\n",
    "    t=[]\n",
    "    measured=[]\n",
    "    for i in np.arange(0,numbercycles):\n",
    "        t_temporary,measured_temporary = count_rate(single_run_coincidences=cycle_data[i], cutoff=cutoff, bin_size = binsize)\n",
    "        np.asarray(measured_temporary)[0:len(measured_temporary)-1][np.where(measured_temporary[0:len(measured_temporary)-1]==0)] = 1\n",
    "        \n",
    "        measured_temporary = measured_temporary[0:len(measured_temporary)-1]\n",
    "        t.extend([[t_temporary]])\n",
    "        measured.extend([[measured_temporary]])\n",
    "    def chisquaredfun(params):\n",
    "\n",
    "        \n",
    "            \n",
    "        \n",
    "        l = params[0]\n",
    "        B = params[1:1+numbercycles]\n",
    "        N0 = params[1+numbercycles:1+2*numbercycles]\n",
    "        \n",
    "        expected = []\n",
    "        for i in np.arange(numbercycles):\n",
    "            expected_temp = (N0[i]/l)*(np.exp(-l*np.asarray(t[i][0][0:len(t[i][0])-1]))-np.exp(-l*np.asarray(t[i][0][1:len(t[i][0])]))) + B[i]*(t[i][0][1:len(t[i][0])]-t[i][0][0:len(t[i][0])-1])\n",
    "\n",
    "            expected.extend([[expected_temp]])\n",
    "                        \n",
    "        chisquared = ((np.square(np.asarray(measured) - np.asarray(expected))) / np.asarray(measured))\n",
    "        \n",
    "        return np.sum([np.sum(item[0])for item in chisquared])\n",
    "    B_guess = np.ones(numbercycles)\n",
    "    N0_guess = [item[0][0]for item in measured]\n",
    "\n",
    "    \n",
    "    \n",
    "    initial_guess = [ rc, *np.ones(numbercycles), *N0_guess ]\n",
    "    #initial_guess = [deadtime, rc,a,b,c,d,e,f,g,h,i,j ]\n",
    "\n",
    "    return minimize(chisquaredfun, initial_guess)#,method = 'L-BFGS-B', bounds = [(.01,.05),(0,0),(0,0),(0,0),(0,0),(0,0),(1000,None),(1000,None),(1000,None),(1000,None),(1000,None)]) "
   ]
  },
  {
   "cell_type": "markdown",
   "metadata": {},
   "source": [
    "$$M_i = \\dfrac{\\ln(DN_0e^{-\\lambda T_{i-1}}+BD+1)}{D(BD+1)\\lambda}-\\dfrac{\\ln(DN_0e^{-\\lambda T_{i}}+BD+1)}{D(BD+1)\\lambda} + \\dfrac{B(T_i - T_{i-1})}{BD+1}$$"
   ]
  },
  {
   "cell_type": "markdown",
   "metadata": {},
   "source": [
    "$$x - \\frac{x^2}{2} + \\frac{x^3}{3} - \\frac{x^4}{4} + \\frac{x^5}{5} - \\frac{x^6}{6} + O(x^7)$$\n",
    "(Taylor series)\n",
    "(converges when abs(x)<1)"
   ]
  },
  {
   "cell_type": "markdown",
   "metadata": {},
   "source": [
    "B = 0 (can make data reflect this condition)"
   ]
  },
  {
   "cell_type": "markdown",
   "metadata": {},
   "source": [
    "$$M_i = \\frac{N_0e^{-\\lambda T_{i-1}}}{\\lambda} - \\frac{N_0e^{-\\lambda T_{i}}}{\\lambda} - \\frac{D(N_0e^{-\\lambda T_{i-1}})^2}{\\lambda} +\\frac{D(N_0e^{-\\lambda T_{i}})^2}{\\lambda}+...$$"
   ]
  },
  {
   "cell_type": "code",
   "execution_count": 63,
   "metadata": {},
   "outputs": [],
   "source": [
    "def optimize_sharedvalues_expanded(counts, binsize=1, deadtime=0.000016, rc=.039, cutoff=0):\n",
    "    cycle_data = counts\n",
    "    numbercycles = len(counts)\n",
    "    t=[]\n",
    "    measured=[]\n",
    "    for i in np.arange(0,numbercycles):\n",
    "        t_temporary,measured_temporary = count_rate(single_run_coincidences=cycle_data[i], cutoff=cutoff, bin_size = binsize)\n",
    "        np.asarray(measured_temporary)[0:len(measured_temporary)-1][np.where(measured_temporary[0:len(measured_temporary)-1]==0)] = 1\n",
    "        \n",
    "        measured_temporary = measured_temporary[0:len(measured_temporary)-1]\n",
    "        t.extend([[t_temporary]])\n",
    "        measured.extend([[measured_temporary]])\n",
    "    def chisquaredfun(params):\n",
    "\n",
    "        \n",
    "            \n",
    "        D = params[1]\n",
    "        l = params[0]\n",
    "        N0 = params[2:2+numbercycles]\n",
    "        \n",
    "        \n",
    "        expected = []\n",
    "        for i in np.arange(numbercycles):\n",
    "            expected_temp = (N0[i]*np.exp(-l*np.asarray(t[i][0][0:len(t[i][0])-1])))/l - (N0[i]*np.exp(-l*np.asarray(t[i][0][1:len(t[i][0])])))/l - D*((N0[i]*np.exp(-l*np.asarray(t[i][0][0:len(t[i][0])-1])))**2 - (N0[i]*np.exp(-l*np.asarray(t[i][0][1:len(t[i][0])])))**2)/l #+ (D**2)*((N0[i]*np.exp(-l*np.asarray(t[i][0][0:len(t[i][0])-1])))**3 - (N0[i]*np.exp(-l*np.asarray(t[i][0][1:len(t[i][0])])))**3)/l\n",
    "\n",
    "            expected.extend([[expected_temp]])\n",
    "                        \n",
    "        chisquared = ((np.square(np.asarray(measured) - np.asarray(expected))) / np.asarray(measured))\n",
    "        \n",
    "        return np.sum([np.sum(item[0])for item in chisquared])\n",
    "    B_guess = np.ones(numbercycles)\n",
    "    N0_guess = [item[0][0]for item in measured]\n",
    "\n",
    "    \n",
    "    \n",
    "    initial_guess = [rc,deadtime , *N0_guess ]\n",
    "    #initial_guess = [deadtime, rc,a,b,c,d,e,f,g,h,i,j ]\n",
    "\n",
    "    return minimize(chisquaredfun, initial_guess)#,method = 'L-BFGS-B', bounds = [(.01,.05),(0,.00001),(1000,None),(1000,None),(1000,None),(1000,None),(1000,None)]) "
   ]
  },
  {
   "cell_type": "code",
   "execution_count": 90,
   "metadata": {},
   "outputs": [],
   "source": [
    "def residuals(counts,cycle_number,values, binsize=1, cutoff=50,):\n",
    "    numbercycles = len(counts)\n",
    "    t,measured = count_rate(single_run_coincidences=counts[cycle_number], cutoff=cutoff, bin_size = binsize)\n",
    "    def residual(params):\n",
    "        l = params[0]\n",
    "        B = params[1:1+numbercycles]\n",
    "        N0 = params[1+numbercycles:1+2*numbercycles]\n",
    "        \n",
    "        expected = (N0[cycle_number]/l)*(np.exp(-l*np.asarray(t[0:len(t)-1]))-np.exp(-l*np.asarray(t[1:len(t)]))) + B[cycle_number]*(t[1:len(t)]-t[0:len(t)-1])\n",
    "\n",
    "        measured[0:len(measured)-1][np.where(measured[0:len(measured)-1]==0)] = 1\n",
    "        residuals = (expected - measured[0:len(measured)-1] ) / np.sqrt(measured[0:len(measured)-1])\n",
    "        return residuals, expected, measured\n",
    "    res, exp, meas= residual(values)\n",
    "    return dict(time = t[0:len(t)-1],\n",
    "                residuals = res,\n",
    "                fit = exp,\n",
    "                measured = meas)"
   ]
  },
  {
   "cell_type": "code",
   "execution_count": 91,
   "metadata": {},
   "outputs": [],
   "source": [
    "def residuals_deadtime(counts,cycle_number,values, binsize=1, cutoff=50,deadtime=1.8e-5):\n",
    "    numbercycles = len(counts)\n",
    "    t,measured = count_rate(single_run_coincidences=counts[cycle_number], cutoff=cutoff, bin_size = binsize)\n",
    "    def residual(params):\n",
    "        #D = params[0]\n",
    "        D = deadtime\n",
    "        l = params[0]\n",
    "        B = params[1:1+numbercycles]\n",
    "        N0 = params[1+numbercycles:1+2*numbercycles]\n",
    "        \n",
    "        expected = (np.log(np.absolute((D*N0[cycle_number]*np.exp(-l*np.asarray(t[0:len(t)-1]))+B[cycle_number]*D+1)/(D*N0[cycle_number]*np.exp(-l*np.asarray(t[1:len(t)]))+B[cycle_number]*D+1))) + B[cycle_number]*D*l*(np.asarray(t[1:len(t)])-np.asarray(t[0:len(t)-1])))/(B[cycle_number]*D*D*l+D*l)\n",
    "\n",
    "\n",
    "        measured[0:len(measured)-1][np.where(measured[0:len(measured)-1]==0)] = 1\n",
    "        residuals = (expected - measured[0:len(measured)-1] ) / np.sqrt(measured[0:len(measured)-1])\n",
    "        return residuals, expected, measured\n",
    "    res, exp, meas= residual(values)\n",
    "    return dict(time = t[0:len(t)-1],\n",
    "                residuals = res,\n",
    "                fit = exp,\n",
    "                measured = meas)"
   ]
  },
  {
   "cell_type": "markdown",
   "metadata": {},
   "source": [
    "$$  y(x_i;a) = \\sum_{j=0} \\frac{N_{0,i}}{\\lambda}\\left( e^{-\\lambda T_{i-1}}- e^{-\\lambda T_{i}}\\right) + B_i(T_i - T_{i-1}) $$"
   ]
  },
  {
   "cell_type": "markdown",
   "metadata": {},
   "source": [
    "$$\\alpha_{k,l} = \\sum^{N}_{i=1} \\frac{1}{\\sigma_i^2} \\left[ \\frac{\\partial y(x_i; \\bf a)}{\\partial a_k} \\cdot \\frac{\\partial y(x_i; \\bf a)}{\\partial a_l} \\right]$$"
   ]
  },
  {
   "cell_type": "markdown",
   "metadata": {},
   "source": [
    "$$\\frac{\\partial y(x_i;\\bf a)}{\\partial \\lambda} = \\sum_{j=0} -\\frac{N_{0,i}}{\\lambda^2}\\left( e^{-\\lambda T_{i-1}}- e^{-\\lambda T_{i}}\\right) + \\frac{N_{0,i}}{\\lambda}\\left( - T_{i-1}e^{-\\lambda T_{i-1}}+  T_{i}e^{-\\lambda T_{i}}\\right)$$\n",
    "\n",
    "$$\\frac{\\partial y(x_i;\\bf a)}{\\partial N_{0,i}} = \\frac{1}{\\lambda}\\left( e^{-\\lambda T_{i-1}}- e^{-\\lambda T_{i}}\\right)$$\n",
    "\n",
    "$$\\frac{\\partial y(x_i;\\bf a)}{\\partial B_i} = (T_i - T_{i-1})$$\n"
   ]
  },
  {
   "cell_type": "code",
   "execution_count": 77,
   "metadata": {},
   "outputs": [],
   "source": [
    "def covariance_matrix(best_fit_parameters,counts ,cutoff, binsize):\n",
    "    \n",
    "    cycle_data = counts\n",
    "    numbercycles = len(counts)\n",
    "    t=[]\n",
    "    measured=[]\n",
    "    for i in np.arange(0,numbercycles):\n",
    "        t_temporary,measured_temporary = count_rate(single_run_coincidences=cycle_data[i], cutoff=cutoff, bin_size = binsize)\n",
    "        np.asarray(measured_temporary)[0:len(measured_temporary)-1][np.where(measured_temporary[0:len(measured_temporary)-1]==0)] = 1\n",
    "        t_temporary = t_temporary[0:int(210/binsize)-cutoff]\n",
    "        measured_temporary = measured_temporary[0:int(210/binsize)-cutoff]\n",
    "        t.extend([[t_temporary]])\n",
    "        measured.extend([[measured_temporary]])\n",
    "    \n",
    "    l = best_fit_parameters[0]\n",
    "    B = best_fit_parameters[1:1+numbercycles]\n",
    "    N0 = best_fit_parameters[1+numbercycles:1+2*numbercycles]\n",
    "\n",
    "    \n",
    "    def yB(time,std):\n",
    "        return (time[1:len(time)] - time[0:len(time)-1])/np.sqrt(std[0:len(std)-1])\n",
    "    \n",
    "    def yl(timelist,l,stdlist,Nlist):\n",
    "        y=0\n",
    "        for i in np.arange(len(Nlist)):\n",
    "            y= y+(-(Nlist[i]/(l**2))*(np.exp(-l*timelist[i][0][0:len(timelist[i][0])-1]) - np.exp(-l*timelist[i][0][1:len(timelist[i][0])])) + (Nlist[i]/l)*(-timelist[i][0][0:len(timelist[i][0])-1]*np.exp(-l*timelist[i][0][0:len(timelist[i][0])-1])+timelist[i][0][1:len(timelist[i][0])]*np.exp(-l*timelist[i][0][1:len(timelist[i][0])])))/np.sqrt(stdlist[i][0][0:len(stdlist[i][0])-1])\n",
    "            \n",
    "        return np.asarray(y)\n",
    "    \n",
    "    def yN0(time,l,std):\n",
    "        return (1/l)*(np.exp(-l*time[0:len(time)-1])-np.exp(-l*time[1:len(time)]))/np.sqrt(std[0:len(std)-1])\n",
    "    \n",
    "    unique_values = [yl(t,l,measured,N0)]\n",
    "    \n",
    "    for i in np.arange(numbercycles):\n",
    "        unique_values.extend([yB(t[i][0],measured[i][0])])\n",
    "        \n",
    "    for i in np.arange(numbercycles):\n",
    "        unique_values.extend([yN0(t[i][0],l,measured[i][0])])\n",
    "\n",
    "    \n",
    "    hessian=[]\n",
    "    for i in np.arange(0,1+numbercycles*2):\n",
    "        for j in np.arange(0,1+numbercycles*2):\n",
    "            hessian.extend([np.sum(unique_values[i]*unique_values[j])])\n",
    "    \n",
    "    h = np.asarray(hessian)\n",
    "    \n",
    "    #hessian = np.array([[a11,a12,a13,a14],[a12,a22,a23,a24],[a13,a23,a33,a34],[a14,a24,a34,a44]])\n",
    "    covariance_matrix =  inv(h.reshape((1+numbercycles*2,1+numbercycles*2)))\n",
    "    return covariance_matrix"
   ]
  },
  {
   "cell_type": "markdown",
   "metadata": {},
   "source": [
    "$$  y(x_i;a) = \\sum_{j=0} \\dfrac{\\ln\\left(\\left|\\frac{DN_{0,i}\\mathrm{e}^{-\\lambda T_{i-1}}+B_iD+1}{DN_{0,i}\\mathrm{e}^{-\\lambda T_i}+B_iD+1}\\right|\\right)+B_iD\\lambda( T_i-T_{i-1})}{\\left(B_iD^2+D\\right)\\lambda} $$"
   ]
  },
  {
   "cell_type": "code",
   "execution_count": null,
   "metadata": {},
   "outputs": [],
   "source": [
    "from sympy import sym\n",
    "\n",
    "L, d, n, b, ti, ti1 = syp.symbols('l D N B ti ti1', real = True)\n",
    "init_printing(use_unicode=True)\n",
    "\n",
    "expression = (sym.log((d*n*sym.exp(-L*ti1)+b*d+1)/(d*n*sym.exp(-L*ti)+b*d+1)) + b*d*L*(ti-ti1))/(d*L*(b*d+1))"
   ]
  },
  {
   "cell_type": "code",
   "execution_count": 79,
   "metadata": {},
   "outputs": [],
   "source": [
    "def covariance_matrixd(best_fit_parameters,counts,deadtime ,cutoff, binsize):\n",
    "    \n",
    "    cycle_data = counts\n",
    "    numbercycles = len(counts)\n",
    "    t=[]\n",
    "    measured=[]\n",
    "    for i in np.arange(0,numbercycles):\n",
    "        t_temporary,measured_temporary = count_rate(single_run_coincidences=cycle_data[i], cutoff=cutoff, bin_size = binsize)\n",
    "        np.asarray(measured_temporary)[0:len(measured_temporary)-1][np.where(measured_temporary[0:len(measured_temporary)-1]==0)] = 1\n",
    "        t_temporary = t_temporary[0:int(210/binsize)-cutoff]\n",
    "        measured_temporary = measured_temporary[0:int(210/binsize)-cutoff]\n",
    "        t.extend([[t_temporary]])\n",
    "        measured.extend([[measured_temporary]])\n",
    "    \n",
    "    D = deadtime\n",
    "    l = best_fit_parameters[0]\n",
    "    B = best_fit_parameters[1:1+numbercycles]\n",
    "    N0 = best_fit_parameters[1+numbercycles:1+2*numbercycles]\n",
    "\n",
    "    \n",
    "    def yB(timelist,l,D,stdlist,N,B,i):\n",
    "        y = (-1*((B*D*l*(timelist[i][0][1:len(timelist[i][0])]-timelist[i][0][0:len(timelist[i][0])-1])+np.log((B*D+D*N*np.exp(-l*timelist[i][0][0:len(timelist[i][0])-1])+1)/(B*D+D*N*np.exp(-l*timelist[i][0][1:len(timelist[i][0])])+1))))/(l*(B*D+1)**2)+(D*l*(timelist[i][0][1:len(timelist[i][0])]-timelist[i][0][0:len(timelist[i][0])-1])+(((D/(B*D+D*N*np.exp(-l*timelist[i][0][1:len(timelist[i][0])])+1))-(D*(B*D+D*N*np.exp(-l*timelist[i][0][0:len(timelist[i][0])-1])+1)/(B*D+D*N*np.exp(-l*timelist[i][0][1:len(timelist[i][0])])+1)**2 ))*(B*D+D*N*np.exp(-l*timelist[i][0][1:len(timelist[i][0])])+1)/(1+B*D+D*N*np.exp(-l*timelist[i][0][0:len(timelist[i][0])-1])))/(D*l*(B*D+1))))/np.sqrt(stdlist[i][0][0:len(stdlist[i][0])-1])\n",
    "        return np.asarray(y)\n",
    "    \n",
    "    def yl(timelist,l,D,stdlist,Nlist,Blist):\n",
    "        y=0\n",
    "        for i in np.arange(len(Nlist)):\n",
    "            y += ((Blist[i]*D*(timelist[i][0][1:len(timelist[i][0])]-timelist[i][0][0:len(timelist[i][0])-1])+((D*Nlist[i]*timelist[i][0][1:len(timelist[i][0])]*(Blist[i]*D+D*Nlist[i]*np.exp(-l*timelist[i][0][0:len(timelist[i][0])-1])+1)*np.exp(-l*timelist[i][0][1:len(timelist[i][0])])/(Blist[i]*D+D*Nlist[i]*np.exp(-l*timelist[i][0][1:len(timelist[i][0])])+1)**2-(D*Nlist[i]*timelist[i][0][0:len(timelist[i][0])-1]*np.exp(-l*timelist[i][0][0:len(timelist[i][0])-1]))/(Blist[i]*D+D*Nlist[i]*np.exp(-l*timelist[i][0][1:len(timelist[i][0])])+1))*(Blist[i]*D+D*Nlist[i]*np.exp(-l*timelist[i][0][1:len(timelist[i][0])])+1))/(Blist[i]*D+D*Nlist[i]*np.exp(-l*timelist[i][0][0:len(timelist[i][0])-1])+1))/(D*l*(Blist[i]*D+1)) - (Blist[i]*D*l*(timelist[i][0][1:len(timelist[i][0])]-timelist[i][0][0:len(timelist[i][0])-1])+np.log((Blist[i]*D+D*Nlist[i]*np.exp(-l*timelist[i][0][0:len(timelist[i][0])-1])+1)/(Blist[i]*D+D*Nlist[i]*np.exp(-l*timelist[i][0][1:len(timelist[i][0])])+1)))/(D*(l**2)*(Blist[i]*D+1)))/np.sqrt(stdlist[i][0][0:len(stdlist[i][0])-1])\n",
    "        return np.asarray(y)\n",
    "    \n",
    "    def yN0(timelist,l,D,stdlist,N,B,i):\n",
    "        y = (((D*np.exp(-l*timelist[i][0][0:len(timelist[i][0])-1])/(B*D+D*N*np.exp(-l*timelist[i][0][1:len(timelist[i][0])])+1) - (D*(B*D+D*N*np.exp(-l*timelist[i][0][0:len(timelist[i][0])-1])+1)*np.exp(-l*timelist[i][0][1:len(timelist[i][0])]))/(B*D+D*N*np.exp(-l*timelist[i][0][1:len(timelist[i][0])])+1)**2)*(B*D+D*N*np.exp(-l*timelist[i][0][1:len(timelist[i][0])])+1))/(D*l*(B*D+1)*(B*D+D*N*np.exp(-l*timelist[i][0][0:len(timelist[i][0])-1])+1)))/np.sqrt(stdlist[i][0][0:len(stdlist[i][0])-1])\n",
    "        return np.asarray(y)\n",
    "    \n",
    "    def yD(timelist,l,D,stdlist,Nlist,Blist):\n",
    "        y=0\n",
    "        for i in np.arange(len(Nlist)):\n",
    "            \n",
    "            y += (-(Blist[i]*(Blist[i]*D*l*(timelist[i][0][1:len(timelist[i][0])]-timelist[i][0][0:len(timelist[i][0])-1])+np.log((Blist[i]*D+D*Nlist[i]*np.exp(-l*timelist[i][0][0:len(timelist[i][0])-1])+1)/(Blist[i]*D+D*Nlist[i]*np.exp(-l*timelist[i][0][1:len(timelist[i][0])])+1))))/(D*l*(Blist[i]*D+1)**2)  +  (Blist[i]*l*(timelist[i][0][1:len(timelist[i][0])]-timelist[i][0][0:len(timelist[i][0])-1])+((((-Blist[i]-Nlist[i]*np.exp(-l*timelist[i][0][1:len(timelist[i][0])]))*(Blist[i]*D+D*Nlist[i]*np.exp(-l*timelist[i][0][0:len(timelist[i][0])-1])+1))/((Blist[i]*D+D*Nlist[i]*np.exp(-l*timelist[i][0][1:len(timelist[i][0])])+1)**2))+(Blist[i]+Nlist[i]*np.exp(-l*timelist[i][0][0:len(timelist[i][0])-1]))/(Blist[i]*D+D*Nlist[i]*np.exp(-l*timelist[i][0][1:len(timelist[i][0])])+1))*(Blist[i]*D+D*Nlist[i]*np.exp(-l*timelist[i][0][1:len(timelist[i][0])])+1)/(Blist[i]*D+D*Nlist[i]*np.exp(-l*timelist[i][0][0:len(timelist[i][0])-1])+1))/(D*l*(Blist[i]*D+1))  -  (Blist[i]*D*l*(timelist[i][0][1:len(timelist[i][0])]-timelist[i][0][0:len(timelist[i][0])-1])+np.log((Blist[i]*D+D*Nlist[i]*np.exp(-l*timelist[i][0][0:len(timelist[i][0])-1])+1)/(Blist[i]*D+D*Nlist[i]*np.exp(-l*timelist[i][0][1:len(timelist[i][0])])+1)))/((D**2)*l*(Blist[i]*D+1)))/np.sqrt(stdlist[i][0][0:len(stdlist[i][0])-1])\n",
    "        return np.asarray(y)\n",
    "    \n",
    "    unique_values = [yD(t,l,D,measured,N0,B)]\n",
    "    unique_values.extend([yl(t,l,D,measured,N0,B)])\n",
    "    for i in np.arange(numbercycles):\n",
    "        unique_values.extend([yB(t,l,D,measured,N0[i],B[i],i)])\n",
    "    for i in np.arange(numbercycles):\n",
    "        unique_values.extend([yN0(t,l,D,measured,N0[i],B[i],i)])\n",
    "\n",
    "    \n",
    "    hessian=[]\n",
    "    for i in np.arange(0,2+numbercycles*2):\n",
    "        for j in np.arange(0,2+numbercycles*2):\n",
    "            hessian.extend([np.sum(unique_values[i]*unique_values[j])])\n",
    "    \n",
    "    h = np.asarray(hessian)\n",
    "    \n",
    "    #hessian = np.array([[a11,a12,a13,a14],[a12,a22,a23,a24],[a13,a23,a33,a34],[a14,a24,a34,a44]])\n",
    "    covariance_matrix =  inv(h.reshape((2+numbercycles*2,2+numbercycles*2)))\n",
    "    return covariance_matrix"
   ]
  },
  {
   "cell_type": "markdown",
   "metadata": {},
   "source": [
    "# Example Use:"
   ]
  },
  {
   "cell_type": "markdown",
   "metadata": {},
   "source": [
    "## Create a pandas dataframe of the counts for ch1 and ch2 of the digitizer"
   ]
  },
  {
   "cell_type": "code",
   "execution_count": 15,
   "metadata": {},
   "outputs": [],
   "source": [
    "data = Run_Data(run_name)"
   ]
  },
  {
   "cell_type": "code",
   "execution_count": 63,
   "metadata": {},
   "outputs": [
    {
     "data": {
      "text/plain": [
       "[                   TIMETAG  ENERGY  ENERGYSHORT   FLAGS\n",
       " 0             175704934272     147          140  0x4400\n",
       " 1             316757152710     144          140  0x4400\n",
       " 2             491867333157     154          149  0x4400\n",
       " 3             602186772266     136          132  0x4400\n",
       " 4             617917005222     154          149  0x4400\n",
       " ...                    ...     ...          ...     ...\n",
       " 13765028  1862390168485414     156          149  0x4400\n",
       " 13765029  1863958730877177     144          140  0x4400\n",
       " 13765030  1864129248381229     154          149  0x4400\n",
       " 13765031  1864410007964693     144          140  0x4400\n",
       " 13765032  1864756965044332     137          133  0x4400\n",
       " \n",
       " [13765033 rows x 4 columns],             TIMETAG  ENERGY  ENERGYSHORT   FLAGS\n",
       " 0   140236904713445    1187          607  0x4000\n",
       " 1   440281008782076    1183          603  0x4000\n",
       " 2   740325124214368    1180          600  0x4000\n",
       " 3  1040369231316513    1190          610  0x4000\n",
       " 4  1340413334273678    1196          611  0x4000\n",
       " 5  1640457431362371    1190          605  0x4000]"
      ]
     },
     "execution_count": 63,
     "metadata": {},
     "output_type": "execute_result"
    }
   ],
   "source": [
    "data"
   ]
  },
  {
   "cell_type": "markdown",
   "metadata": {},
   "source": [
    "## Split the data into the individual cycles"
   ]
  },
  {
   "cell_type": "code",
   "execution_count": 16,
   "metadata": {},
   "outputs": [],
   "source": [
    "cycles = Split_Data(data[0],data[1])"
   ]
  },
  {
   "cell_type": "code",
   "execution_count": 64,
   "metadata": {
    "scrolled": true
   },
   "outputs": [
    {
     "data": {
      "text/plain": [
       "[                TIMETAG  ENERGY  ENERGYSHORT   FLAGS\n",
       " 0       140236947896901     159          154  0x4400\n",
       " 1       140237041556435     141          137  0x4400\n",
       " 2       140237049948941     165          158  0x4400\n",
       " 3       140237071872949     149          145  0x4400\n",
       " 4       140237073773033     153          148  0x4400\n",
       " ...                 ...     ...          ...     ...\n",
       " 720175  350604249566979     150          137  0x4400\n",
       " 720176  350690904100759     156          151  0x4400\n",
       " 720177  351090341124902     143          139  0x4400\n",
       " 720178  351143782810951     148          137  0x4400\n",
       " 720179  351277579336957     165          158  0x4400\n",
       " \n",
       " [720180 rows x 4 columns],\n",
       "                 TIMETAG  ENERGY  ENERGYSHORT   FLAGS\n",
       " 0       440281016497726     153          145  0x4400\n",
       " 1       440281103562381     150          140  0x4400\n",
       " 2       440281127116951     150          146  0x4400\n",
       " 3       440281132829048     155          150  0x4400\n",
       " 4       440281179205796     153          144  0x4400\n",
       " ...                 ...     ...          ...     ...\n",
       " 730481  651014928928646     139          136  0x4400\n",
       " 730482  651069564229878     160          143  0x4400\n",
       " 730483  651074132785345     158          150  0x4400\n",
       " 730484  651133061276777     153          148  0x4400\n",
       " 730485  651270265688151     139          135  0x4400\n",
       " \n",
       " [730486 rows x 4 columns],\n",
       "                 TIMETAG  ENERGY  ENERGYSHORT   FLAGS\n",
       " 0       740325130641335     156          150  0x4400\n",
       " 1       740325149365573     154          147  0x4400\n",
       " 2       740325203508796     141          137  0x4400\n",
       " 3       740325206525195     161          153  0x4400\n",
       " 4       740325208320950     149          145  0x4400\n",
       " ...                 ...     ...          ...     ...\n",
       " 725353  950671654265055     154          149  0x4400\n",
       " 725354  950896822728456     147          142  0x4400\n",
       " 725355  950905040349451     160          148  0x4400\n",
       " 725356  951282324538249     149          141  0x4400\n",
       " 725357  951346537289743     155          145  0x4400\n",
       " \n",
       " [725358 rows x 4 columns],\n",
       "                  TIMETAG  ENERGY  ENERGYSHORT   FLAGS\n",
       " 0       1040370390902325     149          140  0x4400\n",
       " 1       1040370408312000     137          133  0x4400\n",
       " 2       1040370419300927     144          140  0x4400\n",
       " 3       1040370452125389     155          149  0x4400\n",
       " 4       1040370512496202     142          138  0x4400\n",
       " ...                  ...     ...          ...     ...\n",
       " 795559  1250923721785330     156          150  0x4400\n",
       " 795560  1251141219140944     151          147  0x4400\n",
       " 795561  1251163307236848     153          148  0x4400\n",
       " 795562  1251216771709789     159          144  0x4400\n",
       " 795563  1251375277989332     160          150  0x4400\n",
       " \n",
       " [795564 rows x 4 columns],\n",
       "                  TIMETAG  ENERGY  ENERGYSHORT   FLAGS\n",
       " 0       1340413352545180     161          153  0x4400\n",
       " 1       1340413381309538     155          147  0x4400\n",
       " 2       1340413469844950     165          158  0x4400\n",
       " 3       1340413495372452     146          142  0x4400\n",
       " 4       1340413511092852     145          141  0x4400\n",
       " ...                  ...     ...          ...     ...\n",
       " 765812  1551196673134743     157          138  0x4400\n",
       " 765813  1551198387073198     161          153  0x4400\n",
       " 765814  1551294201948935     156          151  0x4400\n",
       " 765815  1551337361241337     161          150  0x4400\n",
       " 765816  1551447326870484     149          139  0x4400\n",
       " \n",
       " [765817 rows x 4 columns]]"
      ]
     },
     "execution_count": 64,
     "metadata": {},
     "output_type": "execute_result"
    }
   ],
   "source": [
    "cycles"
   ]
  },
  {
   "cell_type": "markdown",
   "metadata": {},
   "source": [
    "## Example of how to find the best fit deadtime:"
   ]
  },
  {
   "cell_type": "code",
   "execution_count": null,
   "metadata": {},
   "outputs": [],
   "source": [
    "#this takes a while to run, not worth running, deadtime = 1.853e-05\n",
    "from tqdm import tqdm_notebook as tqdm\n",
    "deadtimelist4 = np.arange(1.8e-5,1.9e-5,1e-8)\n",
    "fitlist4 = []\n",
    "for i in tqdm(deadtimelist4):\n",
    "    op2 = optimize_sharedvalues(cycles,cutoff=0,deadtime=i,binsize=1)\n",
    "    fitlist4[0:0] = [op2]"
   ]
  },
  {
   "cell_type": "code",
   "execution_count": null,
   "metadata": {},
   "outputs": [],
   "source": [
    "chilist = np.asarray([fitlist4[i].fun for i in np.arange(0,len(fitlist4)) ])\n",
    "plt.scatter(deadtimelist4,chilist)\n",
    "plt.xlim(1.8e-5,1.9e-5)\n",
    "plt.ylim(0,2000)\n",
    "np.asarray(deadtimelist4)[np.where(chilist==chilist.min())],chilist[np.where(chilist==chilist.min())]"
   ]
  },
  {
   "cell_type": "markdown",
   "metadata": {},
   "source": [
    "## Find the best fit for shared deadtime and halflife using a simple exponential"
   ]
  },
  {
   "cell_type": "code",
   "execution_count": 102,
   "metadata": {},
   "outputs": [
    {
     "name": "stderr",
     "output_type": "stream",
     "text": [
      "C:\\Users\\higgi\\Anaconda3\\lib\\site-packages\\scipy\\optimize\\optimize.py:1013: RuntimeWarning: divide by zero encountered in double_scalars\n",
      "  rhok = 1.0 / (numpy.dot(yk, sk))\n"
     ]
    }
   ],
   "source": [
    "op = optimize_sharedvalues_simple(cycles,cutoff=70,binsize=1)"
   ]
  },
  {
   "cell_type": "code",
   "execution_count": 103,
   "metadata": {},
   "outputs": [
    {
     "data": {
      "text/plain": [
       "      fun: 700.8710513653325\n",
       " hess_inv: array([[1.76797988e-08, 2.47789045e-05, 3.31142169e-05, 2.93744645e-05,\n",
       "        4.02065455e-05, 5.27255230e-05, 1.55921070e-03, 1.19075226e-03,\n",
       "        1.44287503e-03, 1.09732746e-03, 4.68584050e-04],\n",
       "       [2.47789045e-05, 2.20855553e-01, 4.69194683e-02, 5.34568045e-02,\n",
       "        6.10257835e-02, 8.09493643e-02, 9.52806246e-01, 1.47069152e+00,\n",
       "        1.52223947e+00, 1.32802504e+00, 5.32301566e-01],\n",
       "       [3.31142169e-05, 4.69194683e-02, 2.54443996e-01, 7.51061572e-02,\n",
       "        8.17970240e-02, 9.69507940e-02, 2.65067992e+00, 1.63389763e+00,\n",
       "        2.11449691e+00, 1.45422726e+00, 9.52354709e-01],\n",
       "       [2.93744645e-05, 5.34568045e-02, 7.51061572e-02, 2.13924135e-01,\n",
       "        7.35873285e-02, 8.36945173e-02, 2.11931529e+00, 1.49531250e+00,\n",
       "        1.80681968e+00, 1.33721231e+00, 9.07973182e-01],\n",
       "       [4.02065455e-05, 6.10257835e-02, 8.17970240e-02, 7.35873285e-02,\n",
       "        2.87937991e-01, 1.28682501e-01, 3.33561255e+00, 2.20728929e+00,\n",
       "        2.81271246e+00, 1.78954606e+00, 1.09985195e+00],\n",
       "       [5.27255230e-05, 8.09493643e-02, 9.69507940e-02, 8.36945173e-02,\n",
       "        1.28682501e-01, 3.33403228e-01, 4.48239404e+00, 3.69827881e+00,\n",
       "        4.47742423e+00, 3.23472384e+00, 5.59047556e-01],\n",
       "       [1.55921070e-03, 9.52806246e-01, 2.65067992e+00, 2.11931529e+00,\n",
       "        3.33561255e+00, 4.48239404e+00, 1.94424287e+02, 1.14345935e+02,\n",
       "        1.50532055e+02, 1.06484507e+02, 4.86433179e+01],\n",
       "       [1.19075226e-03, 1.47069152e+00, 1.63389763e+00, 1.49531250e+00,\n",
       "        2.20728929e+00, 3.69827881e+00, 1.14345935e+02, 1.05065077e+02,\n",
       "        1.21198817e+02, 9.91263054e+01, 2.68344689e+01],\n",
       "       [1.44287503e-03, 1.52223947e+00, 2.11449691e+00, 1.80681968e+00,\n",
       "        2.81271246e+00, 4.47742423e+00, 1.50532055e+02, 1.21198817e+02,\n",
       "        1.47172966e+02, 1.13868452e+02, 3.25530323e+01],\n",
       "       [1.09732746e-03, 1.32802504e+00, 1.45422726e+00, 1.33721231e+00,\n",
       "        1.78954606e+00, 3.23472384e+00, 1.06484507e+02, 9.91263054e+01,\n",
       "        1.13868452e+02, 9.40715802e+01, 2.51625173e+01],\n",
       "       [4.68584050e-04, 5.32301566e-01, 9.52354709e-01, 9.07973182e-01,\n",
       "        1.09985195e+00, 5.59047556e-01, 4.86433179e+01, 2.68344689e+01,\n",
       "        3.25530323e+01, 2.51625173e+01, 5.14449377e+01]])\n",
       "      jac: array([ 3.12042236e-03,  0.00000000e+00,  0.00000000e+00,  0.00000000e+00,\n",
       "        0.00000000e+00, -7.62939453e-06,  0.00000000e+00, -1.52587891e-05,\n",
       "        1.52587891e-05,  0.00000000e+00,  7.62939453e-06])\n",
       "  message: 'Desired error not necessarily achieved due to precision loss.'\n",
       "     nfev: 742\n",
       "      nit: 43\n",
       "     njev: 57\n",
       "   status: 2\n",
       "  success: False\n",
       "        x: array([ 3.96412971e-02, -3.68076515e-01, -1.77910888e-01, -6.26017479e-01,\n",
       "       -6.57542450e-01, -1.66666139e+00,  2.13341813e+03,  2.16846480e+03,\n",
       "        2.13573774e+03,  2.40982746e+03,  2.29015061e+03])"
      ]
     },
     "execution_count": 103,
     "metadata": {},
     "output_type": "execute_result"
    }
   ],
   "source": [
    "op"
   ]
  },
  {
   "cell_type": "markdown",
   "metadata": {},
   "source": [
    "## Plot the residuals"
   ]
  },
  {
   "cell_type": "code",
   "execution_count": 104,
   "metadata": {},
   "outputs": [
    {
     "data": {
      "text/plain": [
       "700"
      ]
     },
     "execution_count": 104,
     "metadata": {},
     "output_type": "execute_result"
    }
   ],
   "source": [
    "res = residuals(counts=cycles,cycle_number=4,values=op.x,binsize=1,cutoff=70)\n",
    "len(res['time'])*5"
   ]
  },
  {
   "cell_type": "code",
   "execution_count": 105,
   "metadata": {},
   "outputs": [
    {
     "data": {
      "image/png": "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\n",
      "text/plain": [
       "<Figure size 432x288 with 1 Axes>"
      ]
     },
     "metadata": {
      "needs_background": "light"
     },
     "output_type": "display_data"
    }
   ],
   "source": [
    "plt.scatter(res['time'],res['residuals'])\n",
    "plt.title('Simple Exponential Fit Residuals: Cycle 4');\n",
    "plt.savefig('simpcycle4res.png')"
   ]
  },
  {
   "cell_type": "code",
   "execution_count": 106,
   "metadata": {
    "scrolled": true
   },
   "outputs": [
    {
     "data": {
      "image/png": "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\n",
      "text/plain": [
       "<Figure size 432x288 with 1 Axes>"
      ]
     },
     "metadata": {
      "needs_background": "light"
     },
     "output_type": "display_data"
    }
   ],
   "source": [
    "plt.scatter(res['time'],res['fit'],s=10,label=\"Simple Exponenial Fit\")\n",
    "plt.scatter(res['time'],res['measured'][0:len(res['time'])],s=10,label=\"Our Measured Data\")\n",
    "\n",
    "\n",
    "plt.title('Cycle 4');\n",
    "plt.ylabel('Log Counts')\n",
    "plt.xlabel('Time (s)')\n",
    "#plt.yscale('log')\n",
    "plt.legend();\n",
    "#plt.savefig('cutoff70simpcycle4.png')"
   ]
  },
  {
   "cell_type": "markdown",
   "metadata": {},
   "source": [
    "## Find the best fit for shared deadtime and halflife using the deadtime model"
   ]
  },
  {
   "cell_type": "code",
   "execution_count": 86,
   "metadata": {},
   "outputs": [],
   "source": [
    "opd = optimize_sharedvalues(cycles,cutoff=0,deadtime=1.853e-05,binsize=1)"
   ]
  },
  {
   "cell_type": "code",
   "execution_count": 87,
   "metadata": {},
   "outputs": [
    {
     "data": {
      "text/plain": [
       "      fun: 1373.4632245392424\n",
       " hess_inv: array([[ 1.14810871e-10,  8.38792161e-07,  6.42223782e-07,\n",
       "         8.29812694e-07,  9.97377757e-07,  3.25137117e-07,\n",
       "        -6.18165166e-07,  9.42891925e-05,  6.14076206e-05,\n",
       "        -1.36701804e-05,  1.13966773e-04],\n",
       "       [ 8.38792161e-07,  1.30177463e-01,  5.06319427e-03,\n",
       "        -5.80208022e-03,  1.20081145e-03, -2.24997936e-03,\n",
       "         1.61107957e-02, -2.90214321e-01,  1.74014574e-01,\n",
       "         2.12963811e-01, -1.37232869e-01],\n",
       "       [ 6.42223782e-07,  5.06319427e-03,  1.42944771e-01,\n",
       "         5.52796306e-03, -6.03077139e-03,  5.08178391e-03,\n",
       "        -1.15857635e-01,  1.04698650e+00,  3.93172040e-01,\n",
       "        -4.47649832e-01,  1.15344450e+00],\n",
       "       [ 8.29812694e-07, -5.80208022e-03,  5.52796306e-03,\n",
       "         1.28199211e-01,  1.05775487e-03,  8.20833873e-03,\n",
       "         4.86824065e-02,  1.59298689e-01,  4.09388031e-02,\n",
       "        -1.32014800e-02,  1.61607878e-01],\n",
       "       [ 9.97377757e-07,  1.20081145e-03, -6.03077139e-03,\n",
       "         1.05775487e-03,  1.31937100e-01,  6.01280258e-03,\n",
       "        -8.89103164e-02,  1.28561850e+00,  7.37776963e-01,\n",
       "        -5.19061418e-01,  1.46369926e+00],\n",
       "       [ 3.25137117e-07, -2.24997936e-03,  5.08178391e-03,\n",
       "         8.20833873e-03,  6.01280258e-03,  1.46331548e-01,\n",
       "         3.83202508e-02, -5.95074532e-01, -1.22919774e-01,\n",
       "         2.88455506e-01, -5.79471334e-01],\n",
       "       [-6.18165166e-07,  1.61107957e-02, -1.15857635e-01,\n",
       "         4.86824065e-02, -8.89103164e-02,  3.83202508e-02,\n",
       "         1.74958831e+01, -2.19331478e+01,  9.44743071e+00,\n",
       "         3.64906094e+01, -1.97976036e+01],\n",
       "       [ 9.42891925e-05, -2.90214321e-01,  1.04698650e+00,\n",
       "         1.59298689e-01,  1.28561850e+00, -5.95074532e-01,\n",
       "        -2.19331478e+01,  4.08249257e+02,  2.23839739e+02,\n",
       "        -1.06890087e+02,  4.71166723e+02],\n",
       "       [ 6.14076206e-05,  1.74014574e-01,  3.93172040e-01,\n",
       "         4.09388031e-02,  7.37776963e-01, -1.22919774e-01,\n",
       "         9.44743071e+00,  2.23839739e+02,  1.55080517e+02,\n",
       "        -1.52976390e+01,  2.67330285e+02],\n",
       "       [-1.36701804e-05,  2.12963811e-01, -4.47649832e-01,\n",
       "        -1.32014800e-02, -5.19061418e-01,  2.88455506e-01,\n",
       "         3.64906094e+01, -1.06890087e+02, -1.52976390e+01,\n",
       "         9.00841230e+01, -1.12376710e+02],\n",
       "       [ 1.13966773e-04, -1.37232869e-01,  1.15344450e+00,\n",
       "         1.61607878e-01,  1.46369926e+00, -5.79471334e-01,\n",
       "        -1.97976036e+01,  4.71166723e+02,  2.67330285e+02,\n",
       "        -1.12376710e+02,  5.48202138e+02]])\n",
       "      jac: array([ 1.94388454e+03, -1.18777466e+00,  1.27439880e+00,  9.12322998e-02,\n",
       "        2.37411499e-01, -5.06835938e-01, -8.90197754e-02,  2.39562988e-03,\n",
       "       -4.46929932e-02,  5.72052002e-02,  5.47332764e-02])\n",
       "  message: 'Desired error not necessarily achieved due to precision loss.'\n",
       "     nfev: 2209\n",
       "      nit: 46\n",
       "     njev: 169\n",
       "   status: 2\n",
       "  success: False\n",
       "        x: array([4.10083571e-02, 2.07520483e+00, 2.73345696e+00, 1.83637882e+00,\n",
       "       2.03133280e+00, 5.66265503e-01, 3.92240877e+04, 3.99625414e+04,\n",
       "       3.95017600e+04, 4.46488116e+04, 4.25491104e+04])"
      ]
     },
     "execution_count": 87,
     "metadata": {},
     "output_type": "execute_result"
    }
   ],
   "source": [
    "opd"
   ]
  },
  {
   "cell_type": "markdown",
   "metadata": {},
   "source": [
    "## Plot the residuals"
   ]
  },
  {
   "cell_type": "code",
   "execution_count": 92,
   "metadata": {},
   "outputs": [
    {
     "data": {
      "text/plain": [
       "210"
      ]
     },
     "execution_count": 92,
     "metadata": {},
     "output_type": "execute_result"
    }
   ],
   "source": [
    "resd = residuals_deadtime(counts=cycles,cycle_number=4,values=opd.x,binsize=1,cutoff=0)\n",
    "len(resd['time'])"
   ]
  },
  {
   "cell_type": "code",
   "execution_count": 93,
   "metadata": {
    "scrolled": false
   },
   "outputs": [
    {
     "data": {
      "image/png": "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\n",
      "text/plain": [
       "<Figure size 432x288 with 1 Axes>"
      ]
     },
     "metadata": {
      "needs_background": "light"
     },
     "output_type": "display_data"
    }
   ],
   "source": [
    "plt.scatter(resd['time'],resd['residuals'])\n",
    "plt.title('Deadtime Fit Residuals: Cycle 4');\n"
   ]
  },
  {
   "cell_type": "code",
   "execution_count": 94,
   "metadata": {},
   "outputs": [
    {
     "data": {
      "image/png": "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\n",
      "text/plain": [
       "<Figure size 720x720 with 1 Axes>"
      ]
     },
     "metadata": {
      "needs_background": "light"
     },
     "output_type": "display_data"
    }
   ],
   "source": [
    "plt.figure(figsize=(10,10))\n",
    "plt.scatter(resd['time'],resd['fit'],s=10,label=\"Deadtime Fit\")\n",
    "plt.scatter(resd['time'],resd['measured'][0:len(resd['time'])],s=10,label=\"Our Measured Data\")\n",
    "plt.yscale('log')\n",
    "plt.title('Cycle 4');\n",
    "plt.ylabel('Log Counts')\n",
    "plt.xlabel('Time (s)')\n",
    "plt.legend();\n"
   ]
  },
  {
   "cell_type": "markdown",
   "metadata": {},
   "source": [
    "## Covariance Matrix"
   ]
  },
  {
   "cell_type": "code",
   "execution_count": 95,
   "metadata": {},
   "outputs": [],
   "source": [
    "#covariance matrix for the deadtime model\n",
    "cm = covariance_matrixd(opd.x,cycles,1.853e-05,0,1)"
   ]
  },
  {
   "cell_type": "code",
   "execution_count": 96,
   "metadata": {},
   "outputs": [
    {
     "data": {
      "text/plain": [
       "array([4.87189008e-06, 4.14279243e-05, 6.70857165e+04, 6.21420855e+04,\n",
       "       6.58789405e+04, 3.99864723e+04, 8.07539585e+04, 1.01481684e+05,\n",
       "       9.67765152e+04, 9.99761498e+04, 6.87016080e+04, 1.31028389e+05])"
      ]
     },
     "execution_count": 96,
     "metadata": {},
     "output_type": "execute_result"
    }
   ],
   "source": [
    "np.sqrt(np.diagonal(cm))"
   ]
  },
  {
   "cell_type": "code",
   "execution_count": 100,
   "metadata": {},
   "outputs": [
    {
     "data": {
      "text/plain": [
       "(16.90258350930515, 0.017092785915096442)"
      ]
     },
     "execution_count": 100,
     "metadata": {},
     "output_type": "execute_result"
    }
   ],
   "source": [
    "#fit halflife and 1 std\n",
    "np.log(2)/(opd.x[0]), (np.log(2)/(opd.x[0]-4.14279243e-05))-np.log(2)/(opd.x[0]) "
   ]
  },
  {
   "cell_type": "code",
   "execution_count": 101,
   "metadata": {},
   "outputs": [
    {
     "data": {
      "text/plain": [
       "array([ 1.18149402e-03, -3.47575415e+03, -3.09546696e+03, -3.33556818e+03,\n",
       "       -1.99094764e+03, -3.84814690e+03,  4.01248008e+00,  3.77316725e+00,\n",
       "        3.92620125e+00,  2.46299699e+00,  4.87707148e+00])"
      ]
     },
     "execution_count": 101,
     "metadata": {},
     "output_type": "execute_result"
    }
   ],
   "source": [
    "#relative error, formatted in order: decay constant,Background counts, N0 counts \n",
    "np.sqrt(np.diagonal(cm)[1:])/op.x"
   ]
  },
  {
   "cell_type": "markdown",
   "metadata": {},
   "source": [
    "## Other plots"
   ]
  },
  {
   "cell_type": "code",
   "execution_count": 19,
   "metadata": {},
   "outputs": [
    {
     "data": {
      "image/png": "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\n",
      "text/plain": [
       "<Figure size 1080x576 with 1 Axes>"
      ]
     },
     "metadata": {
      "needs_background": "light"
     },
     "output_type": "display_data"
    }
   ],
   "source": [
    "plt.figure(figsize=(15,8))\n",
    "plt.tight_layout()\n",
    "plt.title('Run 5 from Feburary 22 (One Second Bins)')\n",
    "plt.ylabel('Counts')\n",
    "plt.xlabel('Time (Seconds)')\n",
    "plt.xlim(60,1865)\n",
    "plt.yscale('log')\n",
    "plt.hist(data[0]['TIMETAG']*10**-12,bins=1865);\n",
    "plt.savefig('Run 5')"
   ]
  },
  {
   "cell_type": "code",
   "execution_count": 217,
   "metadata": {},
   "outputs": [
    {
     "data": {
      "image/png": "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\n",
      "text/plain": [
       "<Figure size 792x576 with 1 Axes>"
      ]
     },
     "metadata": {
      "needs_background": "light"
     },
     "output_type": "display_data"
    }
   ],
   "source": [
    "plt.figure(figsize=(11,8))\n",
    "plt.title('Run 5 from Feburary 22 (One Second Bins)')\n",
    "plt.ylabel('Counts')\n",
    "plt.xlabel('Time (Seconds)')\n",
    "plt.xlim(0,1865)\n",
    "xcoords = data[1]['TIMETAG']*10**-12\n",
    "for xc in xcoords:\n",
    "    plt.axvline(x=xc,color='orange')\n",
    "plt.hist(data[0]['TIMETAG']*10**-12,bins=1865);\n",
    "plt.xlim(1250,1600)\n",
    "plt.yscale('log')\n",
    "plt.savefig('Splits')"
   ]
  },
  {
   "cell_type": "code",
   "execution_count": 772,
   "metadata": {},
   "outputs": [
    {
     "data": {
      "image/png": "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\n",
      "text/plain": [
       "<Figure size 1008x576 with 6 Axes>"
      ]
     },
     "metadata": {
      "needs_background": "light"
     },
     "output_type": "display_data"
    }
   ],
   "source": [
    "fig,ax = plt.subplots(2,3,figsize=(14,8),sharey=True)\n",
    "fig.suptitle('Individual Cycles')\n",
    "l=0\n",
    "\n",
    "for i in np.arange(0,2):\n",
    "    for j in np.arange(0,3):\n",
    "        if l<=4:\n",
    "            ax[i][j].hist((cycles[l]['TIMETAG']-np.min(cycles[l]['TIMETAG']))*10**-12,bins = 200,label='Cycle Number {0:d}'.format(l+1));\n",
    "            ax[i][j].legend()\n",
    "            ax[i][j].set_ylabel('Counts')\n",
    "            l+=1\n",
    "plt.savefig('Cycles')"
   ]
  },
  {
   "cell_type": "code",
   "execution_count": 149,
   "metadata": {},
   "outputs": [
    {
     "data": {
      "image/png": "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\n",
      "text/plain": [
       "<Figure size 432x288 with 1 Axes>"
      ]
     },
     "metadata": {
      "needs_background": "light"
     },
     "output_type": "display_data"
    }
   ],
   "source": [
    "x = np.arange(0,70)\n",
    "y = 2.29015061e+03*np.exp(-3.96412971e-02*np.arange(-70,0))-1.66666139e+00\n",
    "plt.scatter(x,y,label = 'Backwards Extrapolated Fit')\n",
    "plt.scatter(x,resd['measured'][0:70],label = 'Measured Data')\n",
    "plt.xlim(0,70)\n",
    "plt.title('Measured Data and Extrapolated Data')\n",
    "plt.ylabel('Counts/second')\n",
    "plt.xlabel('Time')\n",
    "plt.legend();\n",
    "plt.savefig('Extrapolatedexponentialfit.png')"
   ]
  },
  {
   "cell_type": "code",
   "execution_count": 143,
   "metadata": {},
   "outputs": [],
   "source": [
    "sub = (y/resd['measured'][0:70])"
   ]
  },
  {
   "cell_type": "code",
<<<<<<< HEAD
   "execution_count": 150,
   "metadata": {},
=======
   "execution_count": 1712,
   "metadata": {
    "scrolled": true
   },
>>>>>>> 808a41cbd298786de24f3fe2047d7a1dbc221cfa
   "outputs": [
    {
     "data": {
      "image/png": "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\n",
      "text/plain": [
       "<Figure size 432x288 with 1 Axes>"
      ]
     },
     "metadata": {
      "needs_background": "light"
     },
     "output_type": "display_data"
    }
   ],
   "source": [
    "plt.plot(resd['measured'][0:70],sub)\n",
    "plt.title('Fractional Deadtime Plot')\n",
    "plt.xlim(resd['measured'][0:70].min(),resd['measured'][0:70].max())\n",
    "plt.ylabel('Fit / Measured')\n",
    "plt.xlabel('Measured Counts/second');\n",
    "plt.savefig('fractionaldeadtime.png')"
   ]
  }
 ],
 "metadata": {
  "kernelspec": {
   "display_name": "Python 3",
   "language": "python",
   "name": "python3"
  },
  "language_info": {
   "codemirror_mode": {
    "name": "ipython",
    "version": 3
   },
   "file_extension": ".py",
   "mimetype": "text/x-python",
   "name": "python",
   "nbconvert_exporter": "python",
   "pygments_lexer": "ipython3",
   "version": "3.6.8"
  }
 },
 "nbformat": 4,
 "nbformat_minor": 2
}
